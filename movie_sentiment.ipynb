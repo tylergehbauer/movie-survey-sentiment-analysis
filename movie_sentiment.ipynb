{
 "cells": [
  {
   "cell_type": "code",
   "execution_count": 32,
   "id": "6ce015cd",
   "metadata": {},
   "outputs": [
    {
     "name": "stderr",
     "output_type": "stream",
     "text": [
      "[nltk_data] Downloading package vader_lexicon to\n",
      "[nltk_data]     /Users/tylergehbauer/nltk_data...\n",
      "[nltk_data]   Package vader_lexicon is already up-to-date!\n"
     ]
    }
   ],
   "source": [
    "import numpy as np \n",
    "import pandas as pd \n",
    "import matplotlib.pyplot as plt\n",
    "from pathlib import Path\n",
    "import os\n",
    "import nltk as nltk\n",
    "nltk.download('vader_lexicon')\n",
    "from nltk.sentiment.vader import SentimentIntensityAnalyzer\n",
    "analyzer = SentimentIntensityAnalyzer()"
   ]
  },
  {
   "cell_type": "code",
   "execution_count": 33,
   "id": "90a4bef8",
   "metadata": {},
   "outputs": [],
   "source": [
    "#tokenization for wordcloud, ect..\n",
    "from nltk.tokenize import word_tokenize, sent_tokenize\n",
    "from nltk.corpus import stopwords\n",
    "from nltk.stem import WordNetLemmatizer, PorterStemmer\n",
    "from string import punctuation\n",
    "import re"
   ]
  },
  {
   "cell_type": "code",
   "execution_count": 34,
   "id": "e9239b60",
   "metadata": {},
   "outputs": [],
   "source": [
    "#used for LSTM\n",
    "from tensorflow.keras.models import Sequential\n",
    "from tensorflow.keras.layers import LSTM, Dense, Dropout, Embedding\n",
    "from tensorflow.keras.preprocessing.text import Tokenizer\n",
    "from sklearn.model_selection import train_test_split\n",
    "import tensorflow as tf\n",
    "from tensorflow.keras.preprocessing.sequence import pad_sequences\n",
    "from tensorflow.keras.preprocessing.text import Tokenizer\n",
    "from sklearn.model_selection import train_test_split"
   ]
  },
  {
   "cell_type": "code",
   "execution_count": 3,
   "id": "7612aeec",
   "metadata": {},
   "outputs": [],
   "source": [
    "#reads in the dataset\n",
    "imdb_df = pd.read_csv(\"Data/IMDB Dataset.csv\")"
   ]
  },
  {
   "cell_type": "code",
   "execution_count": 4,
   "id": "d077af12",
   "metadata": {},
   "outputs": [
    {
     "data": {
      "text/html": [
       "<div>\n",
       "<style scoped>\n",
       "    .dataframe tbody tr th:only-of-type {\n",
       "        vertical-align: middle;\n",
       "    }\n",
       "\n",
       "    .dataframe tbody tr th {\n",
       "        vertical-align: top;\n",
       "    }\n",
       "\n",
       "    .dataframe thead th {\n",
       "        text-align: right;\n",
       "    }\n",
       "</style>\n",
       "<table border=\"1\" class=\"dataframe\">\n",
       "  <thead>\n",
       "    <tr style=\"text-align: right;\">\n",
       "      <th></th>\n",
       "      <th>review</th>\n",
       "      <th>sentiment</th>\n",
       "    </tr>\n",
       "  </thead>\n",
       "  <tbody>\n",
       "    <tr>\n",
       "      <th>0</th>\n",
       "      <td>One of the other reviewers has mentioned that ...</td>\n",
       "      <td>positive</td>\n",
       "    </tr>\n",
       "    <tr>\n",
       "      <th>1</th>\n",
       "      <td>A wonderful little production. &lt;br /&gt;&lt;br /&gt;The...</td>\n",
       "      <td>positive</td>\n",
       "    </tr>\n",
       "    <tr>\n",
       "      <th>2</th>\n",
       "      <td>I thought this was a wonderful way to spend ti...</td>\n",
       "      <td>positive</td>\n",
       "    </tr>\n",
       "    <tr>\n",
       "      <th>3</th>\n",
       "      <td>Basically there's a family where a little boy ...</td>\n",
       "      <td>negative</td>\n",
       "    </tr>\n",
       "    <tr>\n",
       "      <th>4</th>\n",
       "      <td>Petter Mattei's \"Love in the Time of Money\" is...</td>\n",
       "      <td>positive</td>\n",
       "    </tr>\n",
       "  </tbody>\n",
       "</table>\n",
       "</div>"
      ],
      "text/plain": [
       "                                              review sentiment\n",
       "0  One of the other reviewers has mentioned that ...  positive\n",
       "1  A wonderful little production. <br /><br />The...  positive\n",
       "2  I thought this was a wonderful way to spend ti...  positive\n",
       "3  Basically there's a family where a little boy ...  negative\n",
       "4  Petter Mattei's \"Love in the Time of Money\" is...  positive"
      ]
     },
     "execution_count": 4,
     "metadata": {},
     "output_type": "execute_result"
    }
   ],
   "source": [
    "imdb_df.head()"
   ]
  },
  {
   "cell_type": "code",
   "execution_count": 5,
   "id": "b3dc06aa",
   "metadata": {},
   "outputs": [
    {
     "data": {
      "text/html": [
       "<div>\n",
       "<style scoped>\n",
       "    .dataframe tbody tr th:only-of-type {\n",
       "        vertical-align: middle;\n",
       "    }\n",
       "\n",
       "    .dataframe tbody tr th {\n",
       "        vertical-align: top;\n",
       "    }\n",
       "\n",
       "    .dataframe thead th {\n",
       "        text-align: right;\n",
       "    }\n",
       "</style>\n",
       "<table border=\"1\" class=\"dataframe\">\n",
       "  <thead>\n",
       "    <tr style=\"text-align: right;\">\n",
       "      <th></th>\n",
       "      <th>review</th>\n",
       "      <th>sentiment</th>\n",
       "    </tr>\n",
       "  </thead>\n",
       "  <tbody>\n",
       "    <tr>\n",
       "      <th>count</th>\n",
       "      <td>50000</td>\n",
       "      <td>50000</td>\n",
       "    </tr>\n",
       "    <tr>\n",
       "      <th>unique</th>\n",
       "      <td>49582</td>\n",
       "      <td>2</td>\n",
       "    </tr>\n",
       "    <tr>\n",
       "      <th>top</th>\n",
       "      <td>Loved today's show!!! It was a variety and not...</td>\n",
       "      <td>positive</td>\n",
       "    </tr>\n",
       "    <tr>\n",
       "      <th>freq</th>\n",
       "      <td>5</td>\n",
       "      <td>25000</td>\n",
       "    </tr>\n",
       "  </tbody>\n",
       "</table>\n",
       "</div>"
      ],
      "text/plain": [
       "                                                   review sentiment\n",
       "count                                               50000     50000\n",
       "unique                                              49582         2\n",
       "top     Loved today's show!!! It was a variety and not...  positive\n",
       "freq                                                    5     25000"
      ]
     },
     "execution_count": 5,
     "metadata": {},
     "output_type": "execute_result"
    }
   ],
   "source": [
    "imdb_df.describe()"
   ]
  },
  {
   "cell_type": "code",
   "execution_count": 6,
   "id": "eaba5756",
   "metadata": {},
   "outputs": [
    {
     "data": {
      "text/html": [
       "<div>\n",
       "<style scoped>\n",
       "    .dataframe tbody tr th:only-of-type {\n",
       "        vertical-align: middle;\n",
       "    }\n",
       "\n",
       "    .dataframe tbody tr th {\n",
       "        vertical-align: top;\n",
       "    }\n",
       "\n",
       "    .dataframe thead th {\n",
       "        text-align: right;\n",
       "    }\n",
       "</style>\n",
       "<table border=\"1\" class=\"dataframe\">\n",
       "  <thead>\n",
       "    <tr style=\"text-align: right;\">\n",
       "      <th></th>\n",
       "      <th>text</th>\n",
       "      <th>Compound</th>\n",
       "      <th>Positive</th>\n",
       "      <th>Negative</th>\n",
       "      <th>Neutral</th>\n",
       "    </tr>\n",
       "  </thead>\n",
       "  <tbody>\n",
       "    <tr>\n",
       "      <th>0</th>\n",
       "      <td>One of the other reviewers has mentioned that ...</td>\n",
       "      <td>-0.9951</td>\n",
       "      <td>0.048</td>\n",
       "      <td>0.203</td>\n",
       "      <td>0.748</td>\n",
       "    </tr>\n",
       "    <tr>\n",
       "      <th>1</th>\n",
       "      <td>A wonderful little production. &lt;br /&gt;&lt;br /&gt;The...</td>\n",
       "      <td>0.9641</td>\n",
       "      <td>0.172</td>\n",
       "      <td>0.053</td>\n",
       "      <td>0.776</td>\n",
       "    </tr>\n",
       "    <tr>\n",
       "      <th>2</th>\n",
       "      <td>I thought this was a wonderful way to spend ti...</td>\n",
       "      <td>0.9605</td>\n",
       "      <td>0.192</td>\n",
       "      <td>0.094</td>\n",
       "      <td>0.714</td>\n",
       "    </tr>\n",
       "    <tr>\n",
       "      <th>3</th>\n",
       "      <td>Basically there's a family where a little boy ...</td>\n",
       "      <td>-0.9213</td>\n",
       "      <td>0.065</td>\n",
       "      <td>0.138</td>\n",
       "      <td>0.797</td>\n",
       "    </tr>\n",
       "    <tr>\n",
       "      <th>4</th>\n",
       "      <td>Petter Mattei's \"Love in the Time of Money\" is...</td>\n",
       "      <td>0.9744</td>\n",
       "      <td>0.147</td>\n",
       "      <td>0.052</td>\n",
       "      <td>0.801</td>\n",
       "    </tr>\n",
       "  </tbody>\n",
       "</table>\n",
       "</div>"
      ],
      "text/plain": [
       "                                                text  Compound  Positive  \\\n",
       "0  One of the other reviewers has mentioned that ...   -0.9951     0.048   \n",
       "1  A wonderful little production. <br /><br />The...    0.9641     0.172   \n",
       "2  I thought this was a wonderful way to spend ti...    0.9605     0.192   \n",
       "3  Basically there's a family where a little boy ...   -0.9213     0.065   \n",
       "4  Petter Mattei's \"Love in the Time of Money\" is...    0.9744     0.147   \n",
       "\n",
       "   Negative  Neutral  \n",
       "0     0.203    0.748  \n",
       "1     0.053    0.776  \n",
       "2     0.094    0.714  \n",
       "3     0.138    0.797  \n",
       "4     0.052    0.801  "
      ]
     },
     "execution_count": 6,
     "metadata": {},
     "output_type": "execute_result"
    }
   ],
   "source": [
    "#This loops creates a vader sentiment score for each review\n",
    "sentiments = []#creates empty list\n",
    "\n",
    "#Going to use VADER’s SentimentIntensityAnalyzer() to see how many 'Neutral (neu)' , 'Positive (pos)', and 'Negatvie(neg)'\n",
    "# words there are for each review. \n",
    "for review in imdb_df['review']: #goes through each review in dataframe and applies polarity\n",
    "    try:\n",
    "        text = review #accessing each review in dataframe\n",
    "        results = analyzer.polarity_scores(text) #this is how get compound, pos, neg, and nue polarity scores\n",
    "        #during imports we set analyzer equal to SentimentIntensityAnalyzer() \n",
    "        #'results' uses this function to find polarity score for each article in bitcoin_news\n",
    "        compound = results[\"compound\"] #gets compound polarity score\n",
    "        pos = results[\"pos\"] #gets postive polarity score\n",
    "        neu = results[\"neu\"] #gets neutral polarity score\n",
    "        neg = results[\"neg\"] #gets negative polarity score\n",
    "\n",
    "        sentiments.append({\n",
    "            \"text\": text,\n",
    "            \"Compound\": compound,\n",
    "            \"Positive\": pos,\n",
    "            \"Negative\": neg,\n",
    "            \"Neutral\": neu,\n",
    "        }) #appends a dictionary inside the list-(sentiments) so a dataframe can be created\n",
    "        #this appends all polarity score we got above\n",
    "    except AttributeError:\n",
    "        pass\n",
    "#rinse and repeat for each article    \n",
    "imdb = pd.DataFrame(sentiments) #creates a dataframe using the list of dicts\n",
    "imdb.head()"
   ]
  },
  {
   "cell_type": "code",
   "execution_count": 7,
   "id": "b8a65755",
   "metadata": {},
   "outputs": [
    {
     "data": {
      "text/html": [
       "<div>\n",
       "<style scoped>\n",
       "    .dataframe tbody tr th:only-of-type {\n",
       "        vertical-align: middle;\n",
       "    }\n",
       "\n",
       "    .dataframe tbody tr th {\n",
       "        vertical-align: top;\n",
       "    }\n",
       "\n",
       "    .dataframe thead th {\n",
       "        text-align: right;\n",
       "    }\n",
       "</style>\n",
       "<table border=\"1\" class=\"dataframe\">\n",
       "  <thead>\n",
       "    <tr style=\"text-align: right;\">\n",
       "      <th></th>\n",
       "      <th>text</th>\n",
       "      <th>Compound</th>\n",
       "      <th>Positive</th>\n",
       "      <th>Negative</th>\n",
       "      <th>Neutral</th>\n",
       "    </tr>\n",
       "  </thead>\n",
       "  <tbody>\n",
       "    <tr>\n",
       "      <th>49995</th>\n",
       "      <td>I thought this movie did a down right good job...</td>\n",
       "      <td>0.9890</td>\n",
       "      <td>0.199</td>\n",
       "      <td>0.047</td>\n",
       "      <td>0.753</td>\n",
       "    </tr>\n",
       "    <tr>\n",
       "      <th>49996</th>\n",
       "      <td>Bad plot, bad dialogue, bad acting, idiotic di...</td>\n",
       "      <td>-0.6693</td>\n",
       "      <td>0.114</td>\n",
       "      <td>0.166</td>\n",
       "      <td>0.720</td>\n",
       "    </tr>\n",
       "    <tr>\n",
       "      <th>49997</th>\n",
       "      <td>I am a Catholic taught in parochial elementary...</td>\n",
       "      <td>-0.9851</td>\n",
       "      <td>0.108</td>\n",
       "      <td>0.208</td>\n",
       "      <td>0.683</td>\n",
       "    </tr>\n",
       "    <tr>\n",
       "      <th>49998</th>\n",
       "      <td>I'm going to have to disagree with the previou...</td>\n",
       "      <td>-0.7648</td>\n",
       "      <td>0.082</td>\n",
       "      <td>0.105</td>\n",
       "      <td>0.813</td>\n",
       "    </tr>\n",
       "    <tr>\n",
       "      <th>49999</th>\n",
       "      <td>No one expects the Star Trek movies to be high...</td>\n",
       "      <td>0.4329</td>\n",
       "      <td>0.141</td>\n",
       "      <td>0.135</td>\n",
       "      <td>0.723</td>\n",
       "    </tr>\n",
       "  </tbody>\n",
       "</table>\n",
       "</div>"
      ],
      "text/plain": [
       "                                                    text  Compound  Positive  \\\n",
       "49995  I thought this movie did a down right good job...    0.9890     0.199   \n",
       "49996  Bad plot, bad dialogue, bad acting, idiotic di...   -0.6693     0.114   \n",
       "49997  I am a Catholic taught in parochial elementary...   -0.9851     0.108   \n",
       "49998  I'm going to have to disagree with the previou...   -0.7648     0.082   \n",
       "49999  No one expects the Star Trek movies to be high...    0.4329     0.141   \n",
       "\n",
       "       Negative  Neutral  \n",
       "49995     0.047    0.753  \n",
       "49996     0.166    0.720  \n",
       "49997     0.208    0.683  \n",
       "49998     0.105    0.813  \n",
       "49999     0.135    0.723  "
      ]
     },
     "execution_count": 7,
     "metadata": {},
     "output_type": "execute_result"
    }
   ],
   "source": [
    "imdb.tail(5)"
   ]
  },
  {
   "cell_type": "code",
   "execution_count": 8,
   "id": "6c5ab3d7",
   "metadata": {},
   "outputs": [],
   "source": [
    "# Instantiate the lemmatizer\n",
    "wnl = WordNetLemmatizer() \n",
    "\n",
    "# Create a list of stopwords\n",
    "stop = stopwords.words('english') # contains all stop words for english"
   ]
  },
  {
   "cell_type": "code",
   "execution_count": 9,
   "id": "8a06c69e",
   "metadata": {},
   "outputs": [],
   "source": [
    "# Expand the default stopwords list if necessary\n",
    "#will append each word to the list 'stop' created in cell above.\n",
    "stop.append(\"u\")\n",
    "stop.append(\"it'\")\n",
    "stop.append(\"'s\")\n",
    "stop.append(\"n't\")\n",
    "stop.append('…')\n",
    "stop.append(\"\\`\")\n",
    "stop.append('``')\n",
    "stop.append('char')\n",
    "stop.append('chars')\n",
    "stop.append(\"''\")\n",
    "stop.append('’')\n",
    "stop.append('arent')\n",
    "stop.append('Mr.')\n",
    "stop.append(',')\n",
    "stop.append('br')\n",
    "stop.append('film')\n",
    "stop.append('movie')\n",
    "stop.append('say')\n",
    "stop.append('get')\n",
    "stop.append('would')\n",
    "stop.append('could')\n",
    "stop.append('people')\n",
    "stop.append('guy')\n",
    "stop.append('put')\n",
    "stop.append('given')\n",
    "stop.append('go')\n",
    "stop.append('one')\n",
    "stop.append('even')\n",
    "stop.append('also')\n",
    "stop.append(\"'m\")\n",
    "\n",
    "stop = set(stop)"
   ]
  },
  {
   "cell_type": "code",
   "execution_count": 10,
   "id": "3950e30e",
   "metadata": {},
   "outputs": [],
   "source": [
    "# Complete the tokenizer function\n",
    "#function that creates the 'tokens' column\n",
    "def tokenizer(text):\n",
    "    \"\"\"Tokenizes text.\"\"\"\n",
    "    \n",
    "    # Create a list of the words\n",
    "    words = word_tokenize(text) #tokenizes each word in text\n",
    "\n",
    "    # Convert the words to lowercase\n",
    "    words = list(filter(lambda w: w.lower(), words))\n",
    "    \n",
    "    # Remove the punctuation\n",
    "    words = list(filter(lambda t: t not in punctuation, words))\n",
    "    \n",
    "    # Remove the stopwords\n",
    "    words = list(filter(lambda t: t.lower() not in stop, words)) #uses the stop list we created\n",
    "    \n",
    "    # Lemmatize Words into root words\n",
    "    #makes Ran and Running into same word for exmaple. \n",
    "    tokens = [wnl.lemmatize(word) for word in words]\n",
    "    \n",
    "    return tokens"
   ]
  },
  {
   "cell_type": "code",
   "execution_count": 11,
   "id": "6861809b",
   "metadata": {},
   "outputs": [
    {
     "data": {
      "text/html": [
       "<div>\n",
       "<style scoped>\n",
       "    .dataframe tbody tr th:only-of-type {\n",
       "        vertical-align: middle;\n",
       "    }\n",
       "\n",
       "    .dataframe tbody tr th {\n",
       "        vertical-align: top;\n",
       "    }\n",
       "\n",
       "    .dataframe thead th {\n",
       "        text-align: right;\n",
       "    }\n",
       "</style>\n",
       "<table border=\"1\" class=\"dataframe\">\n",
       "  <thead>\n",
       "    <tr style=\"text-align: right;\">\n",
       "      <th></th>\n",
       "      <th>text</th>\n",
       "      <th>Compound</th>\n",
       "      <th>Positive</th>\n",
       "      <th>Negative</th>\n",
       "      <th>Neutral</th>\n",
       "      <th>tokens</th>\n",
       "    </tr>\n",
       "  </thead>\n",
       "  <tbody>\n",
       "    <tr>\n",
       "      <th>0</th>\n",
       "      <td>One of the other reviewers has mentioned that ...</td>\n",
       "      <td>-0.9951</td>\n",
       "      <td>0.048</td>\n",
       "      <td>0.203</td>\n",
       "      <td>0.748</td>\n",
       "      <td>[reviewer, mentioned, watching, 1, Oz, episode...</td>\n",
       "    </tr>\n",
       "    <tr>\n",
       "      <th>1</th>\n",
       "      <td>A wonderful little production. &lt;br /&gt;&lt;br /&gt;The...</td>\n",
       "      <td>0.9641</td>\n",
       "      <td>0.172</td>\n",
       "      <td>0.053</td>\n",
       "      <td>0.776</td>\n",
       "      <td>[wonderful, little, production, filming, techn...</td>\n",
       "    </tr>\n",
       "    <tr>\n",
       "      <th>2</th>\n",
       "      <td>I thought this was a wonderful way to spend ti...</td>\n",
       "      <td>0.9605</td>\n",
       "      <td>0.192</td>\n",
       "      <td>0.094</td>\n",
       "      <td>0.714</td>\n",
       "      <td>[thought, wonderful, way, spend, time, hot, su...</td>\n",
       "    </tr>\n",
       "    <tr>\n",
       "      <th>3</th>\n",
       "      <td>Basically there's a family where a little boy ...</td>\n",
       "      <td>-0.9213</td>\n",
       "      <td>0.065</td>\n",
       "      <td>0.138</td>\n",
       "      <td>0.797</td>\n",
       "      <td>[Basically, family, little, boy, Jake, think, ...</td>\n",
       "    </tr>\n",
       "    <tr>\n",
       "      <th>4</th>\n",
       "      <td>Petter Mattei's \"Love in the Time of Money\" is...</td>\n",
       "      <td>0.9744</td>\n",
       "      <td>0.147</td>\n",
       "      <td>0.052</td>\n",
       "      <td>0.801</td>\n",
       "      <td>[Petter, Mattei, Love, Time, Money, visually, ...</td>\n",
       "    </tr>\n",
       "  </tbody>\n",
       "</table>\n",
       "</div>"
      ],
      "text/plain": [
       "                                                text  Compound  Positive  \\\n",
       "0  One of the other reviewers has mentioned that ...   -0.9951     0.048   \n",
       "1  A wonderful little production. <br /><br />The...    0.9641     0.172   \n",
       "2  I thought this was a wonderful way to spend ti...    0.9605     0.192   \n",
       "3  Basically there's a family where a little boy ...   -0.9213     0.065   \n",
       "4  Petter Mattei's \"Love in the Time of Money\" is...    0.9744     0.147   \n",
       "\n",
       "   Negative  Neutral                                             tokens  \n",
       "0     0.203    0.748  [reviewer, mentioned, watching, 1, Oz, episode...  \n",
       "1     0.053    0.776  [wonderful, little, production, filming, techn...  \n",
       "2     0.094    0.714  [thought, wonderful, way, spend, time, hot, su...  \n",
       "3     0.138    0.797  [Basically, family, little, boy, Jake, think, ...  \n",
       "4     0.052    0.801  [Petter, Mattei, Love, Time, Money, visually, ...  "
      ]
     },
     "execution_count": 11,
     "metadata": {},
     "output_type": "execute_result"
    }
   ],
   "source": [
    "# Create a new tokens column for each words in review\n",
    "imdb[\"tokens\"] = imdb.text.apply(tokenizer)\n",
    "imdb.head()"
   ]
  },
  {
   "cell_type": "code",
   "execution_count": 12,
   "id": "82a49feb",
   "metadata": {},
   "outputs": [
    {
     "data": {
      "text/html": [
       "<div>\n",
       "<style scoped>\n",
       "    .dataframe tbody tr th:only-of-type {\n",
       "        vertical-align: middle;\n",
       "    }\n",
       "\n",
       "    .dataframe tbody tr th {\n",
       "        vertical-align: top;\n",
       "    }\n",
       "\n",
       "    .dataframe thead th {\n",
       "        text-align: right;\n",
       "    }\n",
       "</style>\n",
       "<table border=\"1\" class=\"dataframe\">\n",
       "  <thead>\n",
       "    <tr style=\"text-align: right;\">\n",
       "      <th></th>\n",
       "      <th>Compound</th>\n",
       "      <th>Positive</th>\n",
       "      <th>Negative</th>\n",
       "      <th>Neutral</th>\n",
       "    </tr>\n",
       "  </thead>\n",
       "  <tbody>\n",
       "    <tr>\n",
       "      <th>count</th>\n",
       "      <td>50000.000000</td>\n",
       "      <td>50000.000000</td>\n",
       "      <td>50000.000000</td>\n",
       "      <td>50000.000000</td>\n",
       "    </tr>\n",
       "    <tr>\n",
       "      <th>mean</th>\n",
       "      <td>0.299203</td>\n",
       "      <td>0.140736</td>\n",
       "      <td>0.094630</td>\n",
       "      <td>0.764636</td>\n",
       "    </tr>\n",
       "    <tr>\n",
       "      <th>std</th>\n",
       "      <td>0.806077</td>\n",
       "      <td>0.066568</td>\n",
       "      <td>0.058763</td>\n",
       "      <td>0.069129</td>\n",
       "    </tr>\n",
       "    <tr>\n",
       "      <th>min</th>\n",
       "      <td>-0.999800</td>\n",
       "      <td>0.000000</td>\n",
       "      <td>0.000000</td>\n",
       "      <td>0.336000</td>\n",
       "    </tr>\n",
       "    <tr>\n",
       "      <th>25%</th>\n",
       "      <td>-0.690100</td>\n",
       "      <td>0.094000</td>\n",
       "      <td>0.052000</td>\n",
       "      <td>0.722000</td>\n",
       "    </tr>\n",
       "    <tr>\n",
       "      <th>50%</th>\n",
       "      <td>0.820150</td>\n",
       "      <td>0.131000</td>\n",
       "      <td>0.087000</td>\n",
       "      <td>0.768000</td>\n",
       "    </tr>\n",
       "    <tr>\n",
       "      <th>75%</th>\n",
       "      <td>0.970500</td>\n",
       "      <td>0.177000</td>\n",
       "      <td>0.130000</td>\n",
       "      <td>0.812000</td>\n",
       "    </tr>\n",
       "    <tr>\n",
       "      <th>max</th>\n",
       "      <td>0.999900</td>\n",
       "      <td>0.548000</td>\n",
       "      <td>0.580000</td>\n",
       "      <td>1.000000</td>\n",
       "    </tr>\n",
       "  </tbody>\n",
       "</table>\n",
       "</div>"
      ],
      "text/plain": [
       "           Compound      Positive      Negative       Neutral\n",
       "count  50000.000000  50000.000000  50000.000000  50000.000000\n",
       "mean       0.299203      0.140736      0.094630      0.764636\n",
       "std        0.806077      0.066568      0.058763      0.069129\n",
       "min       -0.999800      0.000000      0.000000      0.336000\n",
       "25%       -0.690100      0.094000      0.052000      0.722000\n",
       "50%        0.820150      0.131000      0.087000      0.768000\n",
       "75%        0.970500      0.177000      0.130000      0.812000\n",
       "max        0.999900      0.548000      0.580000      1.000000"
      ]
     },
     "execution_count": 12,
     "metadata": {},
     "output_type": "execute_result"
    }
   ],
   "source": [
    "#looks at mean score for each column\n",
    "imdb.describe()"
   ]
  },
  {
   "cell_type": "markdown",
   "id": "05592453",
   "metadata": {},
   "source": [
    "## LSTM Algoirthm"
   ]
  },
  {
   "cell_type": "code",
   "execution_count": 16,
   "id": "10e63548",
   "metadata": {},
   "outputs": [
    {
     "data": {
      "text/html": [
       "<div>\n",
       "<style scoped>\n",
       "    .dataframe tbody tr th:only-of-type {\n",
       "        vertical-align: middle;\n",
       "    }\n",
       "\n",
       "    .dataframe tbody tr th {\n",
       "        vertical-align: top;\n",
       "    }\n",
       "\n",
       "    .dataframe thead th {\n",
       "        text-align: right;\n",
       "    }\n",
       "</style>\n",
       "<table border=\"1\" class=\"dataframe\">\n",
       "  <thead>\n",
       "    <tr style=\"text-align: right;\">\n",
       "      <th></th>\n",
       "      <th>text</th>\n",
       "      <th>Compound</th>\n",
       "      <th>Positive</th>\n",
       "      <th>Negative</th>\n",
       "      <th>Neutral</th>\n",
       "      <th>tokens</th>\n",
       "      <th>sentiment</th>\n",
       "    </tr>\n",
       "  </thead>\n",
       "  <tbody>\n",
       "    <tr>\n",
       "      <th>0</th>\n",
       "      <td>One of the other reviewers has mentioned that ...</td>\n",
       "      <td>-0.9951</td>\n",
       "      <td>0.048</td>\n",
       "      <td>0.203</td>\n",
       "      <td>0.748</td>\n",
       "      <td>[reviewer, mentioned, watching, 1, Oz, episode...</td>\n",
       "      <td>positive</td>\n",
       "    </tr>\n",
       "    <tr>\n",
       "      <th>1</th>\n",
       "      <td>A wonderful little production. &lt;br /&gt;&lt;br /&gt;The...</td>\n",
       "      <td>0.9641</td>\n",
       "      <td>0.172</td>\n",
       "      <td>0.053</td>\n",
       "      <td>0.776</td>\n",
       "      <td>[wonderful, little, production, filming, techn...</td>\n",
       "      <td>positive</td>\n",
       "    </tr>\n",
       "    <tr>\n",
       "      <th>2</th>\n",
       "      <td>I thought this was a wonderful way to spend ti...</td>\n",
       "      <td>0.9605</td>\n",
       "      <td>0.192</td>\n",
       "      <td>0.094</td>\n",
       "      <td>0.714</td>\n",
       "      <td>[thought, wonderful, way, spend, time, hot, su...</td>\n",
       "      <td>positive</td>\n",
       "    </tr>\n",
       "    <tr>\n",
       "      <th>3</th>\n",
       "      <td>Basically there's a family where a little boy ...</td>\n",
       "      <td>-0.9213</td>\n",
       "      <td>0.065</td>\n",
       "      <td>0.138</td>\n",
       "      <td>0.797</td>\n",
       "      <td>[Basically, family, little, boy, Jake, think, ...</td>\n",
       "      <td>negative</td>\n",
       "    </tr>\n",
       "    <tr>\n",
       "      <th>4</th>\n",
       "      <td>Petter Mattei's \"Love in the Time of Money\" is...</td>\n",
       "      <td>0.9744</td>\n",
       "      <td>0.147</td>\n",
       "      <td>0.052</td>\n",
       "      <td>0.801</td>\n",
       "      <td>[Petter, Mattei, Love, Time, Money, visually, ...</td>\n",
       "      <td>positive</td>\n",
       "    </tr>\n",
       "  </tbody>\n",
       "</table>\n",
       "</div>"
      ],
      "text/plain": [
       "                                                text  Compound  Positive  \\\n",
       "0  One of the other reviewers has mentioned that ...   -0.9951     0.048   \n",
       "1  A wonderful little production. <br /><br />The...    0.9641     0.172   \n",
       "2  I thought this was a wonderful way to spend ti...    0.9605     0.192   \n",
       "3  Basically there's a family where a little boy ...   -0.9213     0.065   \n",
       "4  Petter Mattei's \"Love in the Time of Money\" is...    0.9744     0.147   \n",
       "\n",
       "   Negative  Neutral                                             tokens  \\\n",
       "0     0.203    0.748  [reviewer, mentioned, watching, 1, Oz, episode...   \n",
       "1     0.053    0.776  [wonderful, little, production, filming, techn...   \n",
       "2     0.094    0.714  [thought, wonderful, way, spend, time, hot, su...   \n",
       "3     0.138    0.797  [Basically, family, little, boy, Jake, think, ...   \n",
       "4     0.052    0.801  [Petter, Mattei, Love, Time, Money, visually, ...   \n",
       "\n",
       "  sentiment  \n",
       "0  positive  \n",
       "1  positive  \n",
       "2  positive  \n",
       "3  negative  \n",
       "4  positive  "
      ]
     },
     "execution_count": 16,
     "metadata": {},
     "output_type": "execute_result"
    }
   ],
   "source": [
    "#Joins the original 'sentiiment' column to the updated dataframe (for algorithm)\n",
    "machine_imdb = imdb.join(imdb_df['sentiment'])\n",
    "machine_imdb.head()"
   ]
  },
  {
   "cell_type": "code",
   "execution_count": 14,
   "id": "04dc0e2d",
   "metadata": {},
   "outputs": [],
   "source": [
    "#this will change 'postive' and 'negative' into integer, necessary for LSTM \n",
    "sentiments_dict = {\n",
    "    'positive': 1,\n",
    "    'negative': 0\n",
    "}"
   ]
  },
  {
   "cell_type": "code",
   "execution_count": 35,
   "id": "e3b71eb4",
   "metadata": {},
   "outputs": [
    {
     "data": {
      "text/html": [
       "<div>\n",
       "<style scoped>\n",
       "    .dataframe tbody tr th:only-of-type {\n",
       "        vertical-align: middle;\n",
       "    }\n",
       "\n",
       "    .dataframe tbody tr th {\n",
       "        vertical-align: top;\n",
       "    }\n",
       "\n",
       "    .dataframe thead th {\n",
       "        text-align: right;\n",
       "    }\n",
       "</style>\n",
       "<table border=\"1\" class=\"dataframe\">\n",
       "  <thead>\n",
       "    <tr style=\"text-align: right;\">\n",
       "      <th></th>\n",
       "      <th>text</th>\n",
       "      <th>Compound</th>\n",
       "      <th>Positive</th>\n",
       "      <th>Negative</th>\n",
       "      <th>Neutral</th>\n",
       "      <th>tokens</th>\n",
       "      <th>sentiment</th>\n",
       "    </tr>\n",
       "  </thead>\n",
       "  <tbody>\n",
       "    <tr>\n",
       "      <th>0</th>\n",
       "      <td>One of the other reviewers has mentioned that ...</td>\n",
       "      <td>-0.9951</td>\n",
       "      <td>0.048</td>\n",
       "      <td>0.203</td>\n",
       "      <td>0.748</td>\n",
       "      <td>[reviewer, mentioned, watching, 1, Oz, episode...</td>\n",
       "      <td>1</td>\n",
       "    </tr>\n",
       "    <tr>\n",
       "      <th>1</th>\n",
       "      <td>A wonderful little production. &lt;br /&gt;&lt;br /&gt;The...</td>\n",
       "      <td>0.9641</td>\n",
       "      <td>0.172</td>\n",
       "      <td>0.053</td>\n",
       "      <td>0.776</td>\n",
       "      <td>[wonderful, little, production, filming, techn...</td>\n",
       "      <td>1</td>\n",
       "    </tr>\n",
       "    <tr>\n",
       "      <th>2</th>\n",
       "      <td>I thought this was a wonderful way to spend ti...</td>\n",
       "      <td>0.9605</td>\n",
       "      <td>0.192</td>\n",
       "      <td>0.094</td>\n",
       "      <td>0.714</td>\n",
       "      <td>[thought, wonderful, way, spend, time, hot, su...</td>\n",
       "      <td>1</td>\n",
       "    </tr>\n",
       "    <tr>\n",
       "      <th>3</th>\n",
       "      <td>Basically there's a family where a little boy ...</td>\n",
       "      <td>-0.9213</td>\n",
       "      <td>0.065</td>\n",
       "      <td>0.138</td>\n",
       "      <td>0.797</td>\n",
       "      <td>[Basically, family, little, boy, Jake, think, ...</td>\n",
       "      <td>0</td>\n",
       "    </tr>\n",
       "    <tr>\n",
       "      <th>4</th>\n",
       "      <td>Petter Mattei's \"Love in the Time of Money\" is...</td>\n",
       "      <td>0.9744</td>\n",
       "      <td>0.147</td>\n",
       "      <td>0.052</td>\n",
       "      <td>0.801</td>\n",
       "      <td>[Petter, Mattei, Love, Time, Money, visually, ...</td>\n",
       "      <td>1</td>\n",
       "    </tr>\n",
       "  </tbody>\n",
       "</table>\n",
       "</div>"
      ],
      "text/plain": [
       "                                                text  Compound  Positive  \\\n",
       "0  One of the other reviewers has mentioned that ...   -0.9951     0.048   \n",
       "1  A wonderful little production. <br /><br />The...    0.9641     0.172   \n",
       "2  I thought this was a wonderful way to spend ti...    0.9605     0.192   \n",
       "3  Basically there's a family where a little boy ...   -0.9213     0.065   \n",
       "4  Petter Mattei's \"Love in the Time of Money\" is...    0.9744     0.147   \n",
       "\n",
       "   Negative  Neutral                                             tokens  \\\n",
       "0     0.203    0.748  [reviewer, mentioned, watching, 1, Oz, episode...   \n",
       "1     0.053    0.776  [wonderful, little, production, filming, techn...   \n",
       "2     0.094    0.714  [thought, wonderful, way, spend, time, hot, su...   \n",
       "3     0.138    0.797  [Basically, family, little, boy, Jake, think, ...   \n",
       "4     0.052    0.801  [Petter, Mattei, Love, Time, Money, visually, ...   \n",
       "\n",
       "   sentiment  \n",
       "0          1  \n",
       "1          1  \n",
       "2          1  \n",
       "3          0  \n",
       "4          1  "
      ]
     },
     "execution_count": 35,
     "metadata": {},
     "output_type": "execute_result"
    }
   ],
   "source": [
    "#this applies the dict just created to the dataframe\n",
    "machine_imdb['sentiment'] = machine_imdb['sentiment'].apply(lambda x: sentiments_dict[x])\n",
    "machine_imdb.head(5)"
   ]
  },
  {
   "cell_type": "code",
   "execution_count": 36,
   "id": "b6237001",
   "metadata": {},
   "outputs": [],
   "source": [
    "y = machine_imdb['sentiment'].values #y equals this specific column (target)/ what you want to predict\n",
    "X = machine_imdb['tokens'].values #x is all columnes without Outcome (features)/ what you will use to predict\n",
    "#seperates the columns"
   ]
  },
  {
   "cell_type": "code",
   "execution_count": 37,
   "id": "209200c4",
   "metadata": {},
   "outputs": [],
   "source": [
    "#makes all tokens same size so can train model\n",
    "tokenizer = Tokenizer(lower=True)\n",
    "tokenizer.fit_on_texts(machine_imdb['tokens'])"
   ]
  },
  {
   "cell_type": "code",
   "execution_count": 21,
   "id": "a347c3f6",
   "metadata": {},
   "outputs": [],
   "source": [
    "#We replace the words in our sentences with whichever index they are included in the 'tokenizer'\n",
    "X_seq = tokenizer.texts_to_sequences(X)\n",
    "#transform the text data to numerical sequences and save the sequences in a variable called X_seq"
   ]
  },
  {
   "cell_type": "code",
   "execution_count": 22,
   "id": "a3d6ec5a",
   "metadata": {},
   "outputs": [],
   "source": [
    "# Set the pad size\n",
    "max_words = 150 #max a (whole comment) segment will be less than 140 to normalize\n",
    "\n",
    "# Pad the sequences using the pad_sequences() method\n",
    "X_pad = pad_sequences(X_seq, maxlen=max_words, padding=\"post\", truncating='post') #truncating='post'"
   ]
  },
  {
   "cell_type": "markdown",
   "id": "9d74d7f3",
   "metadata": {},
   "source": [
    "pad_sequences: This function transforms a list (of length num_samples) of sequences (lists of integers) into a 2D Numpy array of shape (num_samples, num_timesteps)"
   ]
  },
  {
   "cell_type": "code",
   "execution_count": 23,
   "id": "1ee394ea",
   "metadata": {},
   "outputs": [],
   "source": [
    "X_train, X_test, y_train, y_test = train_test_split(X_pad, y, random_state=78)"
   ]
  },
  {
   "cell_type": "markdown",
   "id": "857732f1",
   "metadata": {},
   "source": [
    "Verify Shape"
   ]
  },
  {
   "cell_type": "code",
   "execution_count": 24,
   "id": "883724e7",
   "metadata": {},
   "outputs": [
    {
     "data": {
      "text/plain": [
       "(12500, 150)"
      ]
     },
     "execution_count": 24,
     "metadata": {},
     "output_type": "execute_result"
    }
   ],
   "source": [
    "X_test.shape"
   ]
  },
  {
   "cell_type": "code",
   "execution_count": 25,
   "id": "4b227837",
   "metadata": {},
   "outputs": [
    {
     "data": {
      "text/plain": [
       "(37500, 150)"
      ]
     },
     "execution_count": 25,
     "metadata": {},
     "output_type": "execute_result"
    }
   ],
   "source": [
    "X_train.shape"
   ]
  },
  {
   "cell_type": "code",
   "execution_count": 27,
   "id": "861ac36c",
   "metadata": {},
   "outputs": [],
   "source": [
    "vocabulary_size = len(tokenizer.word_counts.keys()) + 1\n",
    "embedding_size = 64"
   ]
  },
  {
   "cell_type": "code",
   "execution_count": 28,
   "id": "d1d6edff",
   "metadata": {},
   "outputs": [
    {
     "name": "stderr",
     "output_type": "stream",
     "text": [
      "2022-03-22 19:02:45.776659: I tensorflow/core/platform/cpu_feature_guard.cc:151] This TensorFlow binary is optimized with oneAPI Deep Neural Network Library (oneDNN) to use the following CPU instructions in performance-critical operations:  AVX2 AVX512F FMA\n",
      "To enable them in other operations, rebuild TensorFlow with the appropriate compiler flags.\n"
     ]
    }
   ],
   "source": [
    "# Define the LSTM RNN model\n",
    "model = Sequential()\n",
    "\n",
    "# Layer 1\n",
    "model.add(Embedding(vocabulary_size, embedding_size, input_length=max_words))\n",
    "\n",
    "# Layer 2\n",
    "model.add(LSTM(units=128))\n",
    "\n",
    "# Output layer\n",
    "model.add(Dense(units=1, activation=\"sigmoid\"))"
   ]
  },
  {
   "cell_type": "code",
   "execution_count": 29,
   "id": "d238bf36",
   "metadata": {},
   "outputs": [],
   "source": [
    "model.compile(optimizer = 'adam', \n",
    "              loss = 'binary_crossentropy',\n",
    "              metrics = ['accuracy'])"
   ]
  },
  {
   "cell_type": "code",
   "execution_count": 30,
   "id": "a634580d",
   "metadata": {},
   "outputs": [
    {
     "name": "stdout",
     "output_type": "stream",
     "text": [
      "Model: \"sequential\"\n",
      "_________________________________________________________________\n",
      " Layer (type)                Output Shape              Param #   \n",
      "=================================================================\n",
      " embedding (Embedding)       (None, 150, 64)           10109568  \n",
      "                                                                 \n",
      " lstm (LSTM)                 (None, 128)               98816     \n",
      "                                                                 \n",
      " dense (Dense)               (None, 1)                 129       \n",
      "                                                                 \n",
      "=================================================================\n",
      "Total params: 10,208,513\n",
      "Trainable params: 10,208,513\n",
      "Non-trainable params: 0\n",
      "_________________________________________________________________\n"
     ]
    }
   ],
   "source": [
    "# Show the model summary\n",
    "model.summary()"
   ]
  },
  {
   "cell_type": "code",
   "execution_count": 31,
   "id": "dce78c66",
   "metadata": {},
   "outputs": [
    {
     "name": "stdout",
     "output_type": "stream",
     "text": [
      "Epoch 1/10\n"
     ]
    },
    {
     "name": "stderr",
     "output_type": "stream",
     "text": [
      "2022-03-22 19:03:22.903225: W tensorflow/core/framework/op_kernel.cc:1722] OP_REQUIRES failed at cast_op.cc:121 : UNIMPLEMENTED: Cast string to float is not supported\n"
     ]
    },
    {
     "ename": "UnimplementedError",
     "evalue": "Graph execution error:\n\nDetected at node 'binary_crossentropy/Cast' defined at (most recent call last):\n    File \"/Users/tylergehbauer/opt/anaconda3/envs/pyvizenv/lib/python3.7/runpy.py\", line 193, in _run_module_as_main\n      \"__main__\", mod_spec)\n    File \"/Users/tylergehbauer/opt/anaconda3/envs/pyvizenv/lib/python3.7/runpy.py\", line 85, in _run_code\n      exec(code, run_globals)\n    File \"/Users/tylergehbauer/opt/anaconda3/envs/pyvizenv/lib/python3.7/site-packages/ipykernel_launcher.py\", line 16, in <module>\n      app.launch_new_instance()\n    File \"/Users/tylergehbauer/opt/anaconda3/envs/pyvizenv/lib/python3.7/site-packages/traitlets/config/application.py\", line 846, in launch_instance\n      app.start()\n    File \"/Users/tylergehbauer/opt/anaconda3/envs/pyvizenv/lib/python3.7/site-packages/ipykernel/kernelapp.py\", line 677, in start\n      self.io_loop.start()\n    File \"/Users/tylergehbauer/opt/anaconda3/envs/pyvizenv/lib/python3.7/site-packages/tornado/platform/asyncio.py\", line 199, in start\n      self.asyncio_loop.run_forever()\n    File \"/Users/tylergehbauer/opt/anaconda3/envs/pyvizenv/lib/python3.7/asyncio/base_events.py\", line 541, in run_forever\n      self._run_once()\n    File \"/Users/tylergehbauer/opt/anaconda3/envs/pyvizenv/lib/python3.7/asyncio/base_events.py\", line 1786, in _run_once\n      handle._run()\n    File \"/Users/tylergehbauer/opt/anaconda3/envs/pyvizenv/lib/python3.7/asyncio/events.py\", line 88, in _run\n      self._context.run(self._callback, *self._args)\n    File \"/Users/tylergehbauer/opt/anaconda3/envs/pyvizenv/lib/python3.7/site-packages/ipykernel/kernelbase.py\", line 457, in dispatch_queue\n      await self.process_one()\n    File \"/Users/tylergehbauer/opt/anaconda3/envs/pyvizenv/lib/python3.7/site-packages/ipykernel/kernelbase.py\", line 446, in process_one\n      await dispatch(*args)\n    File \"/Users/tylergehbauer/opt/anaconda3/envs/pyvizenv/lib/python3.7/site-packages/ipykernel/kernelbase.py\", line 353, in dispatch_shell\n      await result\n    File \"/Users/tylergehbauer/opt/anaconda3/envs/pyvizenv/lib/python3.7/site-packages/ipykernel/kernelbase.py\", line 648, in execute_request\n      reply_content = await reply_content\n    File \"/Users/tylergehbauer/opt/anaconda3/envs/pyvizenv/lib/python3.7/site-packages/ipykernel/ipkernel.py\", line 353, in do_execute\n      res = shell.run_cell(code, store_history=store_history, silent=silent)\n    File \"/Users/tylergehbauer/opt/anaconda3/envs/pyvizenv/lib/python3.7/site-packages/ipykernel/zmqshell.py\", line 533, in run_cell\n      return super(ZMQInteractiveShell, self).run_cell(*args, **kwargs)\n    File \"/Users/tylergehbauer/opt/anaconda3/envs/pyvizenv/lib/python3.7/site-packages/IPython/core/interactiveshell.py\", line 2902, in run_cell\n      raw_cell, store_history, silent, shell_futures)\n    File \"/Users/tylergehbauer/opt/anaconda3/envs/pyvizenv/lib/python3.7/site-packages/IPython/core/interactiveshell.py\", line 2947, in _run_cell\n      return runner(coro)\n    File \"/Users/tylergehbauer/opt/anaconda3/envs/pyvizenv/lib/python3.7/site-packages/IPython/core/async_helpers.py\", line 68, in _pseudo_sync_runner\n      coro.send(None)\n    File \"/Users/tylergehbauer/opt/anaconda3/envs/pyvizenv/lib/python3.7/site-packages/IPython/core/interactiveshell.py\", line 3173, in run_cell_async\n      interactivity=interactivity, compiler=compiler, result=result)\n    File \"/Users/tylergehbauer/opt/anaconda3/envs/pyvizenv/lib/python3.7/site-packages/IPython/core/interactiveshell.py\", line 3364, in run_ast_nodes\n      if (await self.run_code(code, result,  async_=asy)):\n    File \"/Users/tylergehbauer/opt/anaconda3/envs/pyvizenv/lib/python3.7/site-packages/IPython/core/interactiveshell.py\", line 3444, in run_code\n      exec(code_obj, self.user_global_ns, self.user_ns)\n    File \"/var/folders/d3/thkbqmp55bsgp57w077cr09h0000gn/T/ipykernel_32112/3592142334.py\", line 1, in <module>\n      model.fit(X_train, y_train, batch_size = 1000, epochs = 10, verbose = 1) #epochs\n    File \"/Users/tylergehbauer/opt/anaconda3/envs/pyvizenv/lib/python3.7/site-packages/keras/utils/traceback_utils.py\", line 64, in error_handler\n      return fn(*args, **kwargs)\n    File \"/Users/tylergehbauer/opt/anaconda3/envs/pyvizenv/lib/python3.7/site-packages/keras/engine/training.py\", line 1384, in fit\n      tmp_logs = self.train_function(iterator)\n    File \"/Users/tylergehbauer/opt/anaconda3/envs/pyvizenv/lib/python3.7/site-packages/keras/engine/training.py\", line 1021, in train_function\n      return step_function(self, iterator)\n    File \"/Users/tylergehbauer/opt/anaconda3/envs/pyvizenv/lib/python3.7/site-packages/keras/engine/training.py\", line 1010, in step_function\n      outputs = model.distribute_strategy.run(run_step, args=(data,))\n    File \"/Users/tylergehbauer/opt/anaconda3/envs/pyvizenv/lib/python3.7/site-packages/keras/engine/training.py\", line 1000, in run_step\n      outputs = model.train_step(data)\n    File \"/Users/tylergehbauer/opt/anaconda3/envs/pyvizenv/lib/python3.7/site-packages/keras/engine/training.py\", line 860, in train_step\n      loss = self.compute_loss(x, y, y_pred, sample_weight)\n    File \"/Users/tylergehbauer/opt/anaconda3/envs/pyvizenv/lib/python3.7/site-packages/keras/engine/training.py\", line 919, in compute_loss\n      y, y_pred, sample_weight, regularization_losses=self.losses)\n    File \"/Users/tylergehbauer/opt/anaconda3/envs/pyvizenv/lib/python3.7/site-packages/keras/engine/compile_utils.py\", line 201, in __call__\n      loss_value = loss_obj(y_t, y_p, sample_weight=sw)\n    File \"/Users/tylergehbauer/opt/anaconda3/envs/pyvizenv/lib/python3.7/site-packages/keras/losses.py\", line 141, in __call__\n      losses = call_fn(y_true, y_pred)\n    File \"/Users/tylergehbauer/opt/anaconda3/envs/pyvizenv/lib/python3.7/site-packages/keras/losses.py\", line 245, in call\n      return ag_fn(y_true, y_pred, **self._fn_kwargs)\n    File \"/Users/tylergehbauer/opt/anaconda3/envs/pyvizenv/lib/python3.7/site-packages/keras/losses.py\", line 1922, in binary_crossentropy\n      y_true = tf.cast(y_true, y_pred.dtype)\nNode: 'binary_crossentropy/Cast'\nCast string to float is not supported\n\t [[{{node binary_crossentropy/Cast}}]] [Op:__inference_train_function_3152]",
     "output_type": "error",
     "traceback": [
      "\u001b[0;31m---------------------------------------------------------------------------\u001b[0m",
      "\u001b[0;31mUnimplementedError\u001b[0m                        Traceback (most recent call last)",
      "\u001b[0;32m/var/folders/d3/thkbqmp55bsgp57w077cr09h0000gn/T/ipykernel_32112/3592142334.py\u001b[0m in \u001b[0;36m<module>\u001b[0;34m\u001b[0m\n\u001b[0;32m----> 1\u001b[0;31m \u001b[0mmodel\u001b[0m\u001b[0;34m.\u001b[0m\u001b[0mfit\u001b[0m\u001b[0;34m(\u001b[0m\u001b[0mX_train\u001b[0m\u001b[0;34m,\u001b[0m \u001b[0my_train\u001b[0m\u001b[0;34m,\u001b[0m \u001b[0mbatch_size\u001b[0m \u001b[0;34m=\u001b[0m \u001b[0;36m1000\u001b[0m\u001b[0;34m,\u001b[0m \u001b[0mepochs\u001b[0m \u001b[0;34m=\u001b[0m \u001b[0;36m10\u001b[0m\u001b[0;34m,\u001b[0m \u001b[0mverbose\u001b[0m \u001b[0;34m=\u001b[0m \u001b[0;36m1\u001b[0m\u001b[0;34m)\u001b[0m \u001b[0;31m#epochs\u001b[0m\u001b[0;34m\u001b[0m\u001b[0;34m\u001b[0m\u001b[0m\n\u001b[0m",
      "\u001b[0;32m~/opt/anaconda3/envs/pyvizenv/lib/python3.7/site-packages/keras/utils/traceback_utils.py\u001b[0m in \u001b[0;36merror_handler\u001b[0;34m(*args, **kwargs)\u001b[0m\n\u001b[1;32m     65\u001b[0m     \u001b[0;32mexcept\u001b[0m \u001b[0mException\u001b[0m \u001b[0;32mas\u001b[0m \u001b[0me\u001b[0m\u001b[0;34m:\u001b[0m  \u001b[0;31m# pylint: disable=broad-except\u001b[0m\u001b[0;34m\u001b[0m\u001b[0;34m\u001b[0m\u001b[0m\n\u001b[1;32m     66\u001b[0m       \u001b[0mfiltered_tb\u001b[0m \u001b[0;34m=\u001b[0m \u001b[0m_process_traceback_frames\u001b[0m\u001b[0;34m(\u001b[0m\u001b[0me\u001b[0m\u001b[0;34m.\u001b[0m\u001b[0m__traceback__\u001b[0m\u001b[0;34m)\u001b[0m\u001b[0;34m\u001b[0m\u001b[0;34m\u001b[0m\u001b[0m\n\u001b[0;32m---> 67\u001b[0;31m       \u001b[0;32mraise\u001b[0m \u001b[0me\u001b[0m\u001b[0;34m.\u001b[0m\u001b[0mwith_traceback\u001b[0m\u001b[0;34m(\u001b[0m\u001b[0mfiltered_tb\u001b[0m\u001b[0;34m)\u001b[0m \u001b[0;32mfrom\u001b[0m \u001b[0;32mNone\u001b[0m\u001b[0;34m\u001b[0m\u001b[0;34m\u001b[0m\u001b[0m\n\u001b[0m\u001b[1;32m     68\u001b[0m     \u001b[0;32mfinally\u001b[0m\u001b[0;34m:\u001b[0m\u001b[0;34m\u001b[0m\u001b[0;34m\u001b[0m\u001b[0m\n\u001b[1;32m     69\u001b[0m       \u001b[0;32mdel\u001b[0m \u001b[0mfiltered_tb\u001b[0m\u001b[0;34m\u001b[0m\u001b[0;34m\u001b[0m\u001b[0m\n",
      "\u001b[0;32m~/opt/anaconda3/envs/pyvizenv/lib/python3.7/site-packages/tensorflow/python/eager/execute.py\u001b[0m in \u001b[0;36mquick_execute\u001b[0;34m(op_name, num_outputs, inputs, attrs, ctx, name)\u001b[0m\n\u001b[1;32m     53\u001b[0m     \u001b[0mctx\u001b[0m\u001b[0;34m.\u001b[0m\u001b[0mensure_initialized\u001b[0m\u001b[0;34m(\u001b[0m\u001b[0;34m)\u001b[0m\u001b[0;34m\u001b[0m\u001b[0;34m\u001b[0m\u001b[0m\n\u001b[1;32m     54\u001b[0m     tensors = pywrap_tfe.TFE_Py_Execute(ctx._handle, device_name, op_name,\n\u001b[0;32m---> 55\u001b[0;31m                                         inputs, attrs, num_outputs)\n\u001b[0m\u001b[1;32m     56\u001b[0m   \u001b[0;32mexcept\u001b[0m \u001b[0mcore\u001b[0m\u001b[0;34m.\u001b[0m\u001b[0m_NotOkStatusException\u001b[0m \u001b[0;32mas\u001b[0m \u001b[0me\u001b[0m\u001b[0;34m:\u001b[0m\u001b[0;34m\u001b[0m\u001b[0;34m\u001b[0m\u001b[0m\n\u001b[1;32m     57\u001b[0m     \u001b[0;32mif\u001b[0m \u001b[0mname\u001b[0m \u001b[0;32mis\u001b[0m \u001b[0;32mnot\u001b[0m \u001b[0;32mNone\u001b[0m\u001b[0;34m:\u001b[0m\u001b[0;34m\u001b[0m\u001b[0;34m\u001b[0m\u001b[0m\n",
      "\u001b[0;31mUnimplementedError\u001b[0m: Graph execution error:\n\nDetected at node 'binary_crossentropy/Cast' defined at (most recent call last):\n    File \"/Users/tylergehbauer/opt/anaconda3/envs/pyvizenv/lib/python3.7/runpy.py\", line 193, in _run_module_as_main\n      \"__main__\", mod_spec)\n    File \"/Users/tylergehbauer/opt/anaconda3/envs/pyvizenv/lib/python3.7/runpy.py\", line 85, in _run_code\n      exec(code, run_globals)\n    File \"/Users/tylergehbauer/opt/anaconda3/envs/pyvizenv/lib/python3.7/site-packages/ipykernel_launcher.py\", line 16, in <module>\n      app.launch_new_instance()\n    File \"/Users/tylergehbauer/opt/anaconda3/envs/pyvizenv/lib/python3.7/site-packages/traitlets/config/application.py\", line 846, in launch_instance\n      app.start()\n    File \"/Users/tylergehbauer/opt/anaconda3/envs/pyvizenv/lib/python3.7/site-packages/ipykernel/kernelapp.py\", line 677, in start\n      self.io_loop.start()\n    File \"/Users/tylergehbauer/opt/anaconda3/envs/pyvizenv/lib/python3.7/site-packages/tornado/platform/asyncio.py\", line 199, in start\n      self.asyncio_loop.run_forever()\n    File \"/Users/tylergehbauer/opt/anaconda3/envs/pyvizenv/lib/python3.7/asyncio/base_events.py\", line 541, in run_forever\n      self._run_once()\n    File \"/Users/tylergehbauer/opt/anaconda3/envs/pyvizenv/lib/python3.7/asyncio/base_events.py\", line 1786, in _run_once\n      handle._run()\n    File \"/Users/tylergehbauer/opt/anaconda3/envs/pyvizenv/lib/python3.7/asyncio/events.py\", line 88, in _run\n      self._context.run(self._callback, *self._args)\n    File \"/Users/tylergehbauer/opt/anaconda3/envs/pyvizenv/lib/python3.7/site-packages/ipykernel/kernelbase.py\", line 457, in dispatch_queue\n      await self.process_one()\n    File \"/Users/tylergehbauer/opt/anaconda3/envs/pyvizenv/lib/python3.7/site-packages/ipykernel/kernelbase.py\", line 446, in process_one\n      await dispatch(*args)\n    File \"/Users/tylergehbauer/opt/anaconda3/envs/pyvizenv/lib/python3.7/site-packages/ipykernel/kernelbase.py\", line 353, in dispatch_shell\n      await result\n    File \"/Users/tylergehbauer/opt/anaconda3/envs/pyvizenv/lib/python3.7/site-packages/ipykernel/kernelbase.py\", line 648, in execute_request\n      reply_content = await reply_content\n    File \"/Users/tylergehbauer/opt/anaconda3/envs/pyvizenv/lib/python3.7/site-packages/ipykernel/ipkernel.py\", line 353, in do_execute\n      res = shell.run_cell(code, store_history=store_history, silent=silent)\n    File \"/Users/tylergehbauer/opt/anaconda3/envs/pyvizenv/lib/python3.7/site-packages/ipykernel/zmqshell.py\", line 533, in run_cell\n      return super(ZMQInteractiveShell, self).run_cell(*args, **kwargs)\n    File \"/Users/tylergehbauer/opt/anaconda3/envs/pyvizenv/lib/python3.7/site-packages/IPython/core/interactiveshell.py\", line 2902, in run_cell\n      raw_cell, store_history, silent, shell_futures)\n    File \"/Users/tylergehbauer/opt/anaconda3/envs/pyvizenv/lib/python3.7/site-packages/IPython/core/interactiveshell.py\", line 2947, in _run_cell\n      return runner(coro)\n    File \"/Users/tylergehbauer/opt/anaconda3/envs/pyvizenv/lib/python3.7/site-packages/IPython/core/async_helpers.py\", line 68, in _pseudo_sync_runner\n      coro.send(None)\n    File \"/Users/tylergehbauer/opt/anaconda3/envs/pyvizenv/lib/python3.7/site-packages/IPython/core/interactiveshell.py\", line 3173, in run_cell_async\n      interactivity=interactivity, compiler=compiler, result=result)\n    File \"/Users/tylergehbauer/opt/anaconda3/envs/pyvizenv/lib/python3.7/site-packages/IPython/core/interactiveshell.py\", line 3364, in run_ast_nodes\n      if (await self.run_code(code, result,  async_=asy)):\n    File \"/Users/tylergehbauer/opt/anaconda3/envs/pyvizenv/lib/python3.7/site-packages/IPython/core/interactiveshell.py\", line 3444, in run_code\n      exec(code_obj, self.user_global_ns, self.user_ns)\n    File \"/var/folders/d3/thkbqmp55bsgp57w077cr09h0000gn/T/ipykernel_32112/3592142334.py\", line 1, in <module>\n      model.fit(X_train, y_train, batch_size = 1000, epochs = 10, verbose = 1) #epochs\n    File \"/Users/tylergehbauer/opt/anaconda3/envs/pyvizenv/lib/python3.7/site-packages/keras/utils/traceback_utils.py\", line 64, in error_handler\n      return fn(*args, **kwargs)\n    File \"/Users/tylergehbauer/opt/anaconda3/envs/pyvizenv/lib/python3.7/site-packages/keras/engine/training.py\", line 1384, in fit\n      tmp_logs = self.train_function(iterator)\n    File \"/Users/tylergehbauer/opt/anaconda3/envs/pyvizenv/lib/python3.7/site-packages/keras/engine/training.py\", line 1021, in train_function\n      return step_function(self, iterator)\n    File \"/Users/tylergehbauer/opt/anaconda3/envs/pyvizenv/lib/python3.7/site-packages/keras/engine/training.py\", line 1010, in step_function\n      outputs = model.distribute_strategy.run(run_step, args=(data,))\n    File \"/Users/tylergehbauer/opt/anaconda3/envs/pyvizenv/lib/python3.7/site-packages/keras/engine/training.py\", line 1000, in run_step\n      outputs = model.train_step(data)\n    File \"/Users/tylergehbauer/opt/anaconda3/envs/pyvizenv/lib/python3.7/site-packages/keras/engine/training.py\", line 860, in train_step\n      loss = self.compute_loss(x, y, y_pred, sample_weight)\n    File \"/Users/tylergehbauer/opt/anaconda3/envs/pyvizenv/lib/python3.7/site-packages/keras/engine/training.py\", line 919, in compute_loss\n      y, y_pred, sample_weight, regularization_losses=self.losses)\n    File \"/Users/tylergehbauer/opt/anaconda3/envs/pyvizenv/lib/python3.7/site-packages/keras/engine/compile_utils.py\", line 201, in __call__\n      loss_value = loss_obj(y_t, y_p, sample_weight=sw)\n    File \"/Users/tylergehbauer/opt/anaconda3/envs/pyvizenv/lib/python3.7/site-packages/keras/losses.py\", line 141, in __call__\n      losses = call_fn(y_true, y_pred)\n    File \"/Users/tylergehbauer/opt/anaconda3/envs/pyvizenv/lib/python3.7/site-packages/keras/losses.py\", line 245, in call\n      return ag_fn(y_true, y_pred, **self._fn_kwargs)\n    File \"/Users/tylergehbauer/opt/anaconda3/envs/pyvizenv/lib/python3.7/site-packages/keras/losses.py\", line 1922, in binary_crossentropy\n      y_true = tf.cast(y_true, y_pred.dtype)\nNode: 'binary_crossentropy/Cast'\nCast string to float is not supported\n\t [[{{node binary_crossentropy/Cast}}]] [Op:__inference_train_function_3152]"
     ]
    }
   ],
   "source": [
    "model.fit(X_train, y_train, batch_size = 1000, epochs = 10, verbose = 1) #epochs "
   ]
  },
  {
   "cell_type": "code",
   "execution_count": null,
   "id": "d604367f",
   "metadata": {},
   "outputs": [],
   "source": []
  }
 ],
 "metadata": {
  "kernelspec": {
   "display_name": "Python [conda env:pyvizenv] *",
   "language": "python",
   "name": "conda-env-pyvizenv-py"
  },
  "language_info": {
   "codemirror_mode": {
    "name": "ipython",
    "version": 3
   },
   "file_extension": ".py",
   "mimetype": "text/x-python",
   "name": "python",
   "nbconvert_exporter": "python",
   "pygments_lexer": "ipython3",
   "version": "3.7.7"
  }
 },
 "nbformat": 4,
 "nbformat_minor": 5
}
