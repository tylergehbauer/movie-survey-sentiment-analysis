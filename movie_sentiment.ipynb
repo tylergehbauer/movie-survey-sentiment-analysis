{
 "cells": [
  {
   "cell_type": "code",
   "execution_count": 1,
   "id": "070b2420",
   "metadata": {},
   "outputs": [
    {
     "name": "stderr",
     "output_type": "stream",
     "text": [
      "[nltk_data] Downloading package vader_lexicon to\n",
      "[nltk_data]     /Users/tylergehbauer/nltk_data...\n",
      "[nltk_data]   Package vader_lexicon is already up-to-date!\n"
     ]
    }
   ],
   "source": [
    "import numpy as np \n",
    "import pandas as pd \n",
    "import matplotlib.pyplot as plt\n",
    "from pathlib import Path\n",
    "import os\n",
    "import nltk as nltk\n",
    "nltk.download('vader_lexicon')\n",
    "from nltk.sentiment.vader import SentimentIntensityAnalyzer\n",
    "analyzer = SentimentIntensityAnalyzer()"
   ]
  },
  {
   "cell_type": "code",
   "execution_count": 2,
   "id": "fe3b71d7",
   "metadata": {},
   "outputs": [],
   "source": [
    "#tokenization for wordcloud, ect..\n",
    "from nltk.tokenize import word_tokenize, sent_tokenize\n",
    "from nltk.corpus import stopwords\n",
    "from nltk.stem import WordNetLemmatizer, PorterStemmer\n",
    "from string import punctuation\n",
    "import re"
   ]
  },
  {
   "cell_type": "code",
   "execution_count": 3,
   "id": "514b3ce6",
   "metadata": {},
   "outputs": [],
   "source": [
    "#used for LSTM\n",
    "from tensorflow.keras.models import Sequential\n",
    "from tensorflow.keras.layers import LSTM, Dense, Dropout, Embedding\n",
    "from tensorflow.keras.preprocessing.text import Tokenizer\n",
    "from sklearn.model_selection import train_test_split\n",
    "import tensorflow as tf\n",
    "from tensorflow.keras.preprocessing.sequence import pad_sequences\n",
    "from tensorflow.keras.preprocessing.text import Tokenizer\n",
    "from sklearn.model_selection import train_test_split"
   ]
  },
  {
   "cell_type": "code",
   "execution_count": 4,
   "id": "f6c66307",
   "metadata": {},
   "outputs": [],
   "source": [
    "#reports\n",
    "from imblearn.metrics import classification_report_imbalanced\n",
    "from sklearn.metrics import confusion_matrix"
   ]
  },
  {
   "cell_type": "code",
   "execution_count": 5,
   "id": "c91e91a8",
   "metadata": {},
   "outputs": [],
   "source": [
    "#reads in the dataset\n",
    "imdb_df = pd.read_csv(\"Data/IMDB Dataset.csv\")"
   ]
  },
  {
   "cell_type": "code",
   "execution_count": 6,
   "id": "c3b6fed1",
   "metadata": {},
   "outputs": [
    {
     "data": {
      "text/html": [
       "<div>\n",
       "<style scoped>\n",
       "    .dataframe tbody tr th:only-of-type {\n",
       "        vertical-align: middle;\n",
       "    }\n",
       "\n",
       "    .dataframe tbody tr th {\n",
       "        vertical-align: top;\n",
       "    }\n",
       "\n",
       "    .dataframe thead th {\n",
       "        text-align: right;\n",
       "    }\n",
       "</style>\n",
       "<table border=\"1\" class=\"dataframe\">\n",
       "  <thead>\n",
       "    <tr style=\"text-align: right;\">\n",
       "      <th></th>\n",
       "      <th>review</th>\n",
       "      <th>sentiment</th>\n",
       "    </tr>\n",
       "  </thead>\n",
       "  <tbody>\n",
       "    <tr>\n",
       "      <th>0</th>\n",
       "      <td>One of the other reviewers has mentioned that ...</td>\n",
       "      <td>positive</td>\n",
       "    </tr>\n",
       "    <tr>\n",
       "      <th>1</th>\n",
       "      <td>A wonderful little production. &lt;br /&gt;&lt;br /&gt;The...</td>\n",
       "      <td>positive</td>\n",
       "    </tr>\n",
       "    <tr>\n",
       "      <th>2</th>\n",
       "      <td>I thought this was a wonderful way to spend ti...</td>\n",
       "      <td>positive</td>\n",
       "    </tr>\n",
       "    <tr>\n",
       "      <th>3</th>\n",
       "      <td>Basically there's a family where a little boy ...</td>\n",
       "      <td>negative</td>\n",
       "    </tr>\n",
       "    <tr>\n",
       "      <th>4</th>\n",
       "      <td>Petter Mattei's \"Love in the Time of Money\" is...</td>\n",
       "      <td>positive</td>\n",
       "    </tr>\n",
       "  </tbody>\n",
       "</table>\n",
       "</div>"
      ],
      "text/plain": [
       "                                              review sentiment\n",
       "0  One of the other reviewers has mentioned that ...  positive\n",
       "1  A wonderful little production. <br /><br />The...  positive\n",
       "2  I thought this was a wonderful way to spend ti...  positive\n",
       "3  Basically there's a family where a little boy ...  negative\n",
       "4  Petter Mattei's \"Love in the Time of Money\" is...  positive"
      ]
     },
     "execution_count": 6,
     "metadata": {},
     "output_type": "execute_result"
    }
   ],
   "source": [
    "imdb_df.head()"
   ]
  },
  {
   "cell_type": "code",
   "execution_count": 7,
   "id": "d8c044b4",
   "metadata": {},
   "outputs": [
    {
     "data": {
      "text/html": [
       "<div>\n",
       "<style scoped>\n",
       "    .dataframe tbody tr th:only-of-type {\n",
       "        vertical-align: middle;\n",
       "    }\n",
       "\n",
       "    .dataframe tbody tr th {\n",
       "        vertical-align: top;\n",
       "    }\n",
       "\n",
       "    .dataframe thead th {\n",
       "        text-align: right;\n",
       "    }\n",
       "</style>\n",
       "<table border=\"1\" class=\"dataframe\">\n",
       "  <thead>\n",
       "    <tr style=\"text-align: right;\">\n",
       "      <th></th>\n",
       "      <th>review</th>\n",
       "      <th>sentiment</th>\n",
       "    </tr>\n",
       "  </thead>\n",
       "  <tbody>\n",
       "    <tr>\n",
       "      <th>count</th>\n",
       "      <td>50000</td>\n",
       "      <td>50000</td>\n",
       "    </tr>\n",
       "    <tr>\n",
       "      <th>unique</th>\n",
       "      <td>49582</td>\n",
       "      <td>2</td>\n",
       "    </tr>\n",
       "    <tr>\n",
       "      <th>top</th>\n",
       "      <td>Loved today's show!!! It was a variety and not...</td>\n",
       "      <td>positive</td>\n",
       "    </tr>\n",
       "    <tr>\n",
       "      <th>freq</th>\n",
       "      <td>5</td>\n",
       "      <td>25000</td>\n",
       "    </tr>\n",
       "  </tbody>\n",
       "</table>\n",
       "</div>"
      ],
      "text/plain": [
       "                                                   review sentiment\n",
       "count                                               50000     50000\n",
       "unique                                              49582         2\n",
       "top     Loved today's show!!! It was a variety and not...  positive\n",
       "freq                                                    5     25000"
      ]
     },
     "execution_count": 7,
     "metadata": {},
     "output_type": "execute_result"
    }
   ],
   "source": [
    "imdb_df.describe()"
   ]
  },
  {
   "cell_type": "code",
   "execution_count": 8,
   "id": "e29b32fc",
   "metadata": {},
   "outputs": [
    {
     "data": {
      "text/html": [
       "<div>\n",
       "<style scoped>\n",
       "    .dataframe tbody tr th:only-of-type {\n",
       "        vertical-align: middle;\n",
       "    }\n",
       "\n",
       "    .dataframe tbody tr th {\n",
       "        vertical-align: top;\n",
       "    }\n",
       "\n",
       "    .dataframe thead th {\n",
       "        text-align: right;\n",
       "    }\n",
       "</style>\n",
       "<table border=\"1\" class=\"dataframe\">\n",
       "  <thead>\n",
       "    <tr style=\"text-align: right;\">\n",
       "      <th></th>\n",
       "      <th>text</th>\n",
       "      <th>Compound</th>\n",
       "      <th>Positive</th>\n",
       "      <th>Negative</th>\n",
       "      <th>Neutral</th>\n",
       "    </tr>\n",
       "  </thead>\n",
       "  <tbody>\n",
       "    <tr>\n",
       "      <th>0</th>\n",
       "      <td>One of the other reviewers has mentioned that ...</td>\n",
       "      <td>-0.9951</td>\n",
       "      <td>0.048</td>\n",
       "      <td>0.203</td>\n",
       "      <td>0.748</td>\n",
       "    </tr>\n",
       "    <tr>\n",
       "      <th>1</th>\n",
       "      <td>A wonderful little production. &lt;br /&gt;&lt;br /&gt;The...</td>\n",
       "      <td>0.9641</td>\n",
       "      <td>0.172</td>\n",
       "      <td>0.053</td>\n",
       "      <td>0.776</td>\n",
       "    </tr>\n",
       "    <tr>\n",
       "      <th>2</th>\n",
       "      <td>I thought this was a wonderful way to spend ti...</td>\n",
       "      <td>0.9605</td>\n",
       "      <td>0.192</td>\n",
       "      <td>0.094</td>\n",
       "      <td>0.714</td>\n",
       "    </tr>\n",
       "    <tr>\n",
       "      <th>3</th>\n",
       "      <td>Basically there's a family where a little boy ...</td>\n",
       "      <td>-0.9213</td>\n",
       "      <td>0.065</td>\n",
       "      <td>0.138</td>\n",
       "      <td>0.797</td>\n",
       "    </tr>\n",
       "    <tr>\n",
       "      <th>4</th>\n",
       "      <td>Petter Mattei's \"Love in the Time of Money\" is...</td>\n",
       "      <td>0.9744</td>\n",
       "      <td>0.147</td>\n",
       "      <td>0.052</td>\n",
       "      <td>0.801</td>\n",
       "    </tr>\n",
       "  </tbody>\n",
       "</table>\n",
       "</div>"
      ],
      "text/plain": [
       "                                                text  Compound  Positive  \\\n",
       "0  One of the other reviewers has mentioned that ...   -0.9951     0.048   \n",
       "1  A wonderful little production. <br /><br />The...    0.9641     0.172   \n",
       "2  I thought this was a wonderful way to spend ti...    0.9605     0.192   \n",
       "3  Basically there's a family where a little boy ...   -0.9213     0.065   \n",
       "4  Petter Mattei's \"Love in the Time of Money\" is...    0.9744     0.147   \n",
       "\n",
       "   Negative  Neutral  \n",
       "0     0.203    0.748  \n",
       "1     0.053    0.776  \n",
       "2     0.094    0.714  \n",
       "3     0.138    0.797  \n",
       "4     0.052    0.801  "
      ]
     },
     "execution_count": 8,
     "metadata": {},
     "output_type": "execute_result"
    }
   ],
   "source": [
    "#This loops creates a vader sentiment score for each review\n",
    "sentiments = []#creates empty list\n",
    "\n",
    "#Going to use VADER’s SentimentIntensityAnalyzer() to see how many 'Neutral (neu)' , 'Positive (pos)', and 'Negatvie(neg)'\n",
    "# words there are for each review. \n",
    "for review in imdb_df['review']: #goes through each review in dataframe and applies polarity\n",
    "    try:\n",
    "        text = review #accessing each review in dataframe\n",
    "        results = analyzer.polarity_scores(text) #this is how get compound, pos, neg, and nue polarity scores\n",
    "        #during imports we set analyzer equal to SentimentIntensityAnalyzer() \n",
    "        #'results' uses this function to find polarity score for each article in bitcoin_news\n",
    "        compound = results[\"compound\"] #gets compound polarity score\n",
    "        pos = results[\"pos\"] #gets postive polarity score\n",
    "        neu = results[\"neu\"] #gets neutral polarity score\n",
    "        neg = results[\"neg\"] #gets negative polarity score\n",
    "\n",
    "        sentiments.append({\n",
    "            \"text\": text,\n",
    "            \"Compound\": compound,\n",
    "            \"Positive\": pos,\n",
    "            \"Negative\": neg,\n",
    "            \"Neutral\": neu,\n",
    "        }) #appends a dictionary inside the list-(sentiments) so a dataframe can be created\n",
    "        #this appends all polarity score we got above\n",
    "    except AttributeError:\n",
    "        pass\n",
    "#rinse and repeat for each article    \n",
    "imdb = pd.DataFrame(sentiments) #creates a dataframe using the list of dicts\n",
    "imdb.head()"
   ]
  },
  {
   "cell_type": "code",
   "execution_count": 9,
   "id": "663fea14",
   "metadata": {},
   "outputs": [
    {
     "data": {
      "text/html": [
       "<div>\n",
       "<style scoped>\n",
       "    .dataframe tbody tr th:only-of-type {\n",
       "        vertical-align: middle;\n",
       "    }\n",
       "\n",
       "    .dataframe tbody tr th {\n",
       "        vertical-align: top;\n",
       "    }\n",
       "\n",
       "    .dataframe thead th {\n",
       "        text-align: right;\n",
       "    }\n",
       "</style>\n",
       "<table border=\"1\" class=\"dataframe\">\n",
       "  <thead>\n",
       "    <tr style=\"text-align: right;\">\n",
       "      <th></th>\n",
       "      <th>text</th>\n",
       "      <th>Compound</th>\n",
       "      <th>Positive</th>\n",
       "      <th>Negative</th>\n",
       "      <th>Neutral</th>\n",
       "    </tr>\n",
       "  </thead>\n",
       "  <tbody>\n",
       "    <tr>\n",
       "      <th>49995</th>\n",
       "      <td>I thought this movie did a down right good job...</td>\n",
       "      <td>0.9890</td>\n",
       "      <td>0.199</td>\n",
       "      <td>0.047</td>\n",
       "      <td>0.753</td>\n",
       "    </tr>\n",
       "    <tr>\n",
       "      <th>49996</th>\n",
       "      <td>Bad plot, bad dialogue, bad acting, idiotic di...</td>\n",
       "      <td>-0.6693</td>\n",
       "      <td>0.114</td>\n",
       "      <td>0.166</td>\n",
       "      <td>0.720</td>\n",
       "    </tr>\n",
       "    <tr>\n",
       "      <th>49997</th>\n",
       "      <td>I am a Catholic taught in parochial elementary...</td>\n",
       "      <td>-0.9851</td>\n",
       "      <td>0.108</td>\n",
       "      <td>0.208</td>\n",
       "      <td>0.683</td>\n",
       "    </tr>\n",
       "    <tr>\n",
       "      <th>49998</th>\n",
       "      <td>I'm going to have to disagree with the previou...</td>\n",
       "      <td>-0.7648</td>\n",
       "      <td>0.082</td>\n",
       "      <td>0.105</td>\n",
       "      <td>0.813</td>\n",
       "    </tr>\n",
       "    <tr>\n",
       "      <th>49999</th>\n",
       "      <td>No one expects the Star Trek movies to be high...</td>\n",
       "      <td>0.4329</td>\n",
       "      <td>0.141</td>\n",
       "      <td>0.135</td>\n",
       "      <td>0.723</td>\n",
       "    </tr>\n",
       "  </tbody>\n",
       "</table>\n",
       "</div>"
      ],
      "text/plain": [
       "                                                    text  Compound  Positive  \\\n",
       "49995  I thought this movie did a down right good job...    0.9890     0.199   \n",
       "49996  Bad plot, bad dialogue, bad acting, idiotic di...   -0.6693     0.114   \n",
       "49997  I am a Catholic taught in parochial elementary...   -0.9851     0.108   \n",
       "49998  I'm going to have to disagree with the previou...   -0.7648     0.082   \n",
       "49999  No one expects the Star Trek movies to be high...    0.4329     0.141   \n",
       "\n",
       "       Negative  Neutral  \n",
       "49995     0.047    0.753  \n",
       "49996     0.166    0.720  \n",
       "49997     0.208    0.683  \n",
       "49998     0.105    0.813  \n",
       "49999     0.135    0.723  "
      ]
     },
     "execution_count": 9,
     "metadata": {},
     "output_type": "execute_result"
    }
   ],
   "source": [
    "imdb.tail(5)"
   ]
  },
  {
   "cell_type": "code",
   "execution_count": 10,
   "id": "3beb316d",
   "metadata": {},
   "outputs": [],
   "source": [
    "# Instantiate the lemmatizer\n",
    "wnl = WordNetLemmatizer() \n",
    "\n",
    "# Create a list of stopwords\n",
    "stop = stopwords.words('english') # contains all stop words for english"
   ]
  },
  {
   "cell_type": "code",
   "execution_count": 11,
   "id": "48b288a4",
   "metadata": {},
   "outputs": [],
   "source": [
    "# Expand the default stopwords list if necessary\n",
    "#will append each word to the list 'stop' created in cell above.\n",
    "stop.append(\"u\")\n",
    "stop.append(\"it'\")\n",
    "stop.append(\"'s\")\n",
    "stop.append(\"n't\")\n",
    "stop.append('…')\n",
    "stop.append(\"\\`\")\n",
    "stop.append('``')\n",
    "stop.append('char')\n",
    "stop.append('chars')\n",
    "stop.append(\"''\")\n",
    "stop.append('’')\n",
    "stop.append('arent')\n",
    "stop.append('Mr.')\n",
    "stop.append(',')\n",
    "stop.append('br')\n",
    "stop.append('film')\n",
    "stop.append('movie')\n",
    "stop.append('say')\n",
    "stop.append('get')\n",
    "stop.append('would')\n",
    "stop.append('could')\n",
    "stop.append('people')\n",
    "stop.append('guy')\n",
    "stop.append('put')\n",
    "stop.append('given')\n",
    "stop.append('go')\n",
    "stop.append('one')\n",
    "stop.append('even')\n",
    "stop.append('also')\n",
    "stop.append(\"'m\")\n",
    "\n",
    "stop = set(stop)"
   ]
  },
  {
   "cell_type": "code",
   "execution_count": 12,
   "id": "dfbc1689",
   "metadata": {},
   "outputs": [],
   "source": [
    "# Complete the tokenizer function\n",
    "#function that creates the 'tokens' column\n",
    "def tokenizer(text):\n",
    "    \"\"\"Tokenizes text.\"\"\"\n",
    "    \n",
    "    # Create a list of the words\n",
    "    words = word_tokenize(text) #tokenizes each word in text\n",
    "\n",
    "    # Convert the words to lowercase\n",
    "    words = list(filter(lambda w: w.lower(), words))\n",
    "    \n",
    "    # Remove the punctuation\n",
    "    words = list(filter(lambda t: t not in punctuation, words))\n",
    "    \n",
    "    # Remove the stopwords\n",
    "    words = list(filter(lambda t: t.lower() not in stop, words)) #uses the stop list we created\n",
    "    \n",
    "    # Lemmatize Words into root words\n",
    "    #makes Ran and Running into same word for exmaple. \n",
    "    tokens = [wnl.lemmatize(word) for word in words]\n",
    "    \n",
    "    return tokens"
   ]
  },
  {
   "cell_type": "code",
   "execution_count": 13,
   "id": "6e304183",
   "metadata": {},
   "outputs": [
    {
     "data": {
      "text/html": [
       "<div>\n",
       "<style scoped>\n",
       "    .dataframe tbody tr th:only-of-type {\n",
       "        vertical-align: middle;\n",
       "    }\n",
       "\n",
       "    .dataframe tbody tr th {\n",
       "        vertical-align: top;\n",
       "    }\n",
       "\n",
       "    .dataframe thead th {\n",
       "        text-align: right;\n",
       "    }\n",
       "</style>\n",
       "<table border=\"1\" class=\"dataframe\">\n",
       "  <thead>\n",
       "    <tr style=\"text-align: right;\">\n",
       "      <th></th>\n",
       "      <th>text</th>\n",
       "      <th>Compound</th>\n",
       "      <th>Positive</th>\n",
       "      <th>Negative</th>\n",
       "      <th>Neutral</th>\n",
       "      <th>tokens</th>\n",
       "    </tr>\n",
       "  </thead>\n",
       "  <tbody>\n",
       "    <tr>\n",
       "      <th>0</th>\n",
       "      <td>One of the other reviewers has mentioned that ...</td>\n",
       "      <td>-0.9951</td>\n",
       "      <td>0.048</td>\n",
       "      <td>0.203</td>\n",
       "      <td>0.748</td>\n",
       "      <td>[reviewer, mentioned, watching, 1, Oz, episode...</td>\n",
       "    </tr>\n",
       "    <tr>\n",
       "      <th>1</th>\n",
       "      <td>A wonderful little production. &lt;br /&gt;&lt;br /&gt;The...</td>\n",
       "      <td>0.9641</td>\n",
       "      <td>0.172</td>\n",
       "      <td>0.053</td>\n",
       "      <td>0.776</td>\n",
       "      <td>[wonderful, little, production, filming, techn...</td>\n",
       "    </tr>\n",
       "    <tr>\n",
       "      <th>2</th>\n",
       "      <td>I thought this was a wonderful way to spend ti...</td>\n",
       "      <td>0.9605</td>\n",
       "      <td>0.192</td>\n",
       "      <td>0.094</td>\n",
       "      <td>0.714</td>\n",
       "      <td>[thought, wonderful, way, spend, time, hot, su...</td>\n",
       "    </tr>\n",
       "    <tr>\n",
       "      <th>3</th>\n",
       "      <td>Basically there's a family where a little boy ...</td>\n",
       "      <td>-0.9213</td>\n",
       "      <td>0.065</td>\n",
       "      <td>0.138</td>\n",
       "      <td>0.797</td>\n",
       "      <td>[Basically, family, little, boy, Jake, think, ...</td>\n",
       "    </tr>\n",
       "    <tr>\n",
       "      <th>4</th>\n",
       "      <td>Petter Mattei's \"Love in the Time of Money\" is...</td>\n",
       "      <td>0.9744</td>\n",
       "      <td>0.147</td>\n",
       "      <td>0.052</td>\n",
       "      <td>0.801</td>\n",
       "      <td>[Petter, Mattei, Love, Time, Money, visually, ...</td>\n",
       "    </tr>\n",
       "  </tbody>\n",
       "</table>\n",
       "</div>"
      ],
      "text/plain": [
       "                                                text  Compound  Positive  \\\n",
       "0  One of the other reviewers has mentioned that ...   -0.9951     0.048   \n",
       "1  A wonderful little production. <br /><br />The...    0.9641     0.172   \n",
       "2  I thought this was a wonderful way to spend ti...    0.9605     0.192   \n",
       "3  Basically there's a family where a little boy ...   -0.9213     0.065   \n",
       "4  Petter Mattei's \"Love in the Time of Money\" is...    0.9744     0.147   \n",
       "\n",
       "   Negative  Neutral                                             tokens  \n",
       "0     0.203    0.748  [reviewer, mentioned, watching, 1, Oz, episode...  \n",
       "1     0.053    0.776  [wonderful, little, production, filming, techn...  \n",
       "2     0.094    0.714  [thought, wonderful, way, spend, time, hot, su...  \n",
       "3     0.138    0.797  [Basically, family, little, boy, Jake, think, ...  \n",
       "4     0.052    0.801  [Petter, Mattei, Love, Time, Money, visually, ...  "
      ]
     },
     "execution_count": 13,
     "metadata": {},
     "output_type": "execute_result"
    }
   ],
   "source": [
    "# Create a new tokens column for each words in review\n",
    "imdb[\"tokens\"] = imdb.text.apply(tokenizer)\n",
    "imdb.head()"
   ]
  },
  {
   "cell_type": "code",
   "execution_count": 24,
   "id": "e577b5aa",
   "metadata": {},
   "outputs": [
    {
     "data": {
      "text/html": [
       "<div>\n",
       "<style scoped>\n",
       "    .dataframe tbody tr th:only-of-type {\n",
       "        vertical-align: middle;\n",
       "    }\n",
       "\n",
       "    .dataframe tbody tr th {\n",
       "        vertical-align: top;\n",
       "    }\n",
       "\n",
       "    .dataframe thead th {\n",
       "        text-align: right;\n",
       "    }\n",
       "</style>\n",
       "<table border=\"1\" class=\"dataframe\">\n",
       "  <thead>\n",
       "    <tr style=\"text-align: right;\">\n",
       "      <th></th>\n",
       "      <th>Compound</th>\n",
       "      <th>Positive</th>\n",
       "      <th>Negative</th>\n",
       "      <th>Neutral</th>\n",
       "    </tr>\n",
       "  </thead>\n",
       "  <tbody>\n",
       "    <tr>\n",
       "      <th>count</th>\n",
       "      <td>50000.000000</td>\n",
       "      <td>50000.000000</td>\n",
       "      <td>50000.000000</td>\n",
       "      <td>50000.000000</td>\n",
       "    </tr>\n",
       "    <tr>\n",
       "      <th>mean</th>\n",
       "      <td>0.299203</td>\n",
       "      <td>0.140736</td>\n",
       "      <td>0.094630</td>\n",
       "      <td>0.764636</td>\n",
       "    </tr>\n",
       "    <tr>\n",
       "      <th>std</th>\n",
       "      <td>0.806077</td>\n",
       "      <td>0.066568</td>\n",
       "      <td>0.058763</td>\n",
       "      <td>0.069129</td>\n",
       "    </tr>\n",
       "    <tr>\n",
       "      <th>min</th>\n",
       "      <td>-0.999800</td>\n",
       "      <td>0.000000</td>\n",
       "      <td>0.000000</td>\n",
       "      <td>0.336000</td>\n",
       "    </tr>\n",
       "    <tr>\n",
       "      <th>25%</th>\n",
       "      <td>-0.690100</td>\n",
       "      <td>0.094000</td>\n",
       "      <td>0.052000</td>\n",
       "      <td>0.722000</td>\n",
       "    </tr>\n",
       "    <tr>\n",
       "      <th>50%</th>\n",
       "      <td>0.820150</td>\n",
       "      <td>0.131000</td>\n",
       "      <td>0.087000</td>\n",
       "      <td>0.768000</td>\n",
       "    </tr>\n",
       "    <tr>\n",
       "      <th>75%</th>\n",
       "      <td>0.970500</td>\n",
       "      <td>0.177000</td>\n",
       "      <td>0.130000</td>\n",
       "      <td>0.812000</td>\n",
       "    </tr>\n",
       "    <tr>\n",
       "      <th>max</th>\n",
       "      <td>0.999900</td>\n",
       "      <td>0.548000</td>\n",
       "      <td>0.580000</td>\n",
       "      <td>1.000000</td>\n",
       "    </tr>\n",
       "  </tbody>\n",
       "</table>\n",
       "</div>"
      ],
      "text/plain": [
       "           Compound      Positive      Negative       Neutral\n",
       "count  50000.000000  50000.000000  50000.000000  50000.000000\n",
       "mean       0.299203      0.140736      0.094630      0.764636\n",
       "std        0.806077      0.066568      0.058763      0.069129\n",
       "min       -0.999800      0.000000      0.000000      0.336000\n",
       "25%       -0.690100      0.094000      0.052000      0.722000\n",
       "50%        0.820150      0.131000      0.087000      0.768000\n",
       "75%        0.970500      0.177000      0.130000      0.812000\n",
       "max        0.999900      0.548000      0.580000      1.000000"
      ]
     },
     "execution_count": 24,
     "metadata": {},
     "output_type": "execute_result"
    }
   ],
   "source": [
    "#looks at mean score for each column\n",
    "imdb.describe()"
   ]
  },
  {
   "cell_type": "markdown",
   "id": "9484567d",
   "metadata": {},
   "source": [
    "## LSTM Algoirthm"
   ]
  },
  {
   "cell_type": "code",
   "execution_count": 25,
   "id": "983d2826",
   "metadata": {},
   "outputs": [
    {
     "data": {
      "text/html": [
       "<div>\n",
       "<style scoped>\n",
       "    .dataframe tbody tr th:only-of-type {\n",
       "        vertical-align: middle;\n",
       "    }\n",
       "\n",
       "    .dataframe tbody tr th {\n",
       "        vertical-align: top;\n",
       "    }\n",
       "\n",
       "    .dataframe thead th {\n",
       "        text-align: right;\n",
       "    }\n",
       "</style>\n",
       "<table border=\"1\" class=\"dataframe\">\n",
       "  <thead>\n",
       "    <tr style=\"text-align: right;\">\n",
       "      <th></th>\n",
       "      <th>text</th>\n",
       "      <th>Compound</th>\n",
       "      <th>Positive</th>\n",
       "      <th>Negative</th>\n",
       "      <th>Neutral</th>\n",
       "      <th>tokens</th>\n",
       "      <th>sentiment</th>\n",
       "    </tr>\n",
       "  </thead>\n",
       "  <tbody>\n",
       "    <tr>\n",
       "      <th>0</th>\n",
       "      <td>One of the other reviewers has mentioned that ...</td>\n",
       "      <td>-0.9951</td>\n",
       "      <td>0.048</td>\n",
       "      <td>0.203</td>\n",
       "      <td>0.748</td>\n",
       "      <td>[reviewer, mentioned, watching, 1, Oz, episode...</td>\n",
       "      <td>positive</td>\n",
       "    </tr>\n",
       "    <tr>\n",
       "      <th>1</th>\n",
       "      <td>A wonderful little production. &lt;br /&gt;&lt;br /&gt;The...</td>\n",
       "      <td>0.9641</td>\n",
       "      <td>0.172</td>\n",
       "      <td>0.053</td>\n",
       "      <td>0.776</td>\n",
       "      <td>[wonderful, little, production, filming, techn...</td>\n",
       "      <td>positive</td>\n",
       "    </tr>\n",
       "    <tr>\n",
       "      <th>2</th>\n",
       "      <td>I thought this was a wonderful way to spend ti...</td>\n",
       "      <td>0.9605</td>\n",
       "      <td>0.192</td>\n",
       "      <td>0.094</td>\n",
       "      <td>0.714</td>\n",
       "      <td>[thought, wonderful, way, spend, time, hot, su...</td>\n",
       "      <td>positive</td>\n",
       "    </tr>\n",
       "    <tr>\n",
       "      <th>3</th>\n",
       "      <td>Basically there's a family where a little boy ...</td>\n",
       "      <td>-0.9213</td>\n",
       "      <td>0.065</td>\n",
       "      <td>0.138</td>\n",
       "      <td>0.797</td>\n",
       "      <td>[Basically, family, little, boy, Jake, think, ...</td>\n",
       "      <td>negative</td>\n",
       "    </tr>\n",
       "    <tr>\n",
       "      <th>4</th>\n",
       "      <td>Petter Mattei's \"Love in the Time of Money\" is...</td>\n",
       "      <td>0.9744</td>\n",
       "      <td>0.147</td>\n",
       "      <td>0.052</td>\n",
       "      <td>0.801</td>\n",
       "      <td>[Petter, Mattei, Love, Time, Money, visually, ...</td>\n",
       "      <td>positive</td>\n",
       "    </tr>\n",
       "  </tbody>\n",
       "</table>\n",
       "</div>"
      ],
      "text/plain": [
       "                                                text  Compound  Positive  \\\n",
       "0  One of the other reviewers has mentioned that ...   -0.9951     0.048   \n",
       "1  A wonderful little production. <br /><br />The...    0.9641     0.172   \n",
       "2  I thought this was a wonderful way to spend ti...    0.9605     0.192   \n",
       "3  Basically there's a family where a little boy ...   -0.9213     0.065   \n",
       "4  Petter Mattei's \"Love in the Time of Money\" is...    0.9744     0.147   \n",
       "\n",
       "   Negative  Neutral                                             tokens  \\\n",
       "0     0.203    0.748  [reviewer, mentioned, watching, 1, Oz, episode...   \n",
       "1     0.053    0.776  [wonderful, little, production, filming, techn...   \n",
       "2     0.094    0.714  [thought, wonderful, way, spend, time, hot, su...   \n",
       "3     0.138    0.797  [Basically, family, little, boy, Jake, think, ...   \n",
       "4     0.052    0.801  [Petter, Mattei, Love, Time, Money, visually, ...   \n",
       "\n",
       "  sentiment  \n",
       "0  positive  \n",
       "1  positive  \n",
       "2  positive  \n",
       "3  negative  \n",
       "4  positive  "
      ]
     },
     "execution_count": 25,
     "metadata": {},
     "output_type": "execute_result"
    }
   ],
   "source": [
    "#Joins the original 'sentiiment' column to the updated dataframe (for algorithm)\n",
    "machine_imdb = imdb.join(imdb_df['sentiment'])\n",
    "machine_imdb.head()"
   ]
  },
  {
   "cell_type": "code",
   "execution_count": 26,
   "id": "641b116a",
   "metadata": {},
   "outputs": [],
   "source": [
    "#this will change 'postive' and 'negative' into integer, necessary for LSTM \n",
    "sentiments_dict = {\n",
    "    'positive': 1,\n",
    "    'negative': 0\n",
    "}"
   ]
  },
  {
   "cell_type": "code",
   "execution_count": 27,
   "id": "ce48cbdd",
   "metadata": {},
   "outputs": [
    {
     "data": {
      "text/html": [
       "<div>\n",
       "<style scoped>\n",
       "    .dataframe tbody tr th:only-of-type {\n",
       "        vertical-align: middle;\n",
       "    }\n",
       "\n",
       "    .dataframe tbody tr th {\n",
       "        vertical-align: top;\n",
       "    }\n",
       "\n",
       "    .dataframe thead th {\n",
       "        text-align: right;\n",
       "    }\n",
       "</style>\n",
       "<table border=\"1\" class=\"dataframe\">\n",
       "  <thead>\n",
       "    <tr style=\"text-align: right;\">\n",
       "      <th></th>\n",
       "      <th>text</th>\n",
       "      <th>Compound</th>\n",
       "      <th>Positive</th>\n",
       "      <th>Negative</th>\n",
       "      <th>Neutral</th>\n",
       "      <th>tokens</th>\n",
       "      <th>sentiment</th>\n",
       "    </tr>\n",
       "  </thead>\n",
       "  <tbody>\n",
       "    <tr>\n",
       "      <th>0</th>\n",
       "      <td>One of the other reviewers has mentioned that ...</td>\n",
       "      <td>-0.9951</td>\n",
       "      <td>0.048</td>\n",
       "      <td>0.203</td>\n",
       "      <td>0.748</td>\n",
       "      <td>[reviewer, mentioned, watching, 1, Oz, episode...</td>\n",
       "      <td>1</td>\n",
       "    </tr>\n",
       "    <tr>\n",
       "      <th>1</th>\n",
       "      <td>A wonderful little production. &lt;br /&gt;&lt;br /&gt;The...</td>\n",
       "      <td>0.9641</td>\n",
       "      <td>0.172</td>\n",
       "      <td>0.053</td>\n",
       "      <td>0.776</td>\n",
       "      <td>[wonderful, little, production, filming, techn...</td>\n",
       "      <td>1</td>\n",
       "    </tr>\n",
       "    <tr>\n",
       "      <th>2</th>\n",
       "      <td>I thought this was a wonderful way to spend ti...</td>\n",
       "      <td>0.9605</td>\n",
       "      <td>0.192</td>\n",
       "      <td>0.094</td>\n",
       "      <td>0.714</td>\n",
       "      <td>[thought, wonderful, way, spend, time, hot, su...</td>\n",
       "      <td>1</td>\n",
       "    </tr>\n",
       "    <tr>\n",
       "      <th>3</th>\n",
       "      <td>Basically there's a family where a little boy ...</td>\n",
       "      <td>-0.9213</td>\n",
       "      <td>0.065</td>\n",
       "      <td>0.138</td>\n",
       "      <td>0.797</td>\n",
       "      <td>[Basically, family, little, boy, Jake, think, ...</td>\n",
       "      <td>0</td>\n",
       "    </tr>\n",
       "    <tr>\n",
       "      <th>4</th>\n",
       "      <td>Petter Mattei's \"Love in the Time of Money\" is...</td>\n",
       "      <td>0.9744</td>\n",
       "      <td>0.147</td>\n",
       "      <td>0.052</td>\n",
       "      <td>0.801</td>\n",
       "      <td>[Petter, Mattei, Love, Time, Money, visually, ...</td>\n",
       "      <td>1</td>\n",
       "    </tr>\n",
       "  </tbody>\n",
       "</table>\n",
       "</div>"
      ],
      "text/plain": [
       "                                                text  Compound  Positive  \\\n",
       "0  One of the other reviewers has mentioned that ...   -0.9951     0.048   \n",
       "1  A wonderful little production. <br /><br />The...    0.9641     0.172   \n",
       "2  I thought this was a wonderful way to spend ti...    0.9605     0.192   \n",
       "3  Basically there's a family where a little boy ...   -0.9213     0.065   \n",
       "4  Petter Mattei's \"Love in the Time of Money\" is...    0.9744     0.147   \n",
       "\n",
       "   Negative  Neutral                                             tokens  \\\n",
       "0     0.203    0.748  [reviewer, mentioned, watching, 1, Oz, episode...   \n",
       "1     0.053    0.776  [wonderful, little, production, filming, techn...   \n",
       "2     0.094    0.714  [thought, wonderful, way, spend, time, hot, su...   \n",
       "3     0.138    0.797  [Basically, family, little, boy, Jake, think, ...   \n",
       "4     0.052    0.801  [Petter, Mattei, Love, Time, Money, visually, ...   \n",
       "\n",
       "   sentiment  \n",
       "0          1  \n",
       "1          1  \n",
       "2          1  \n",
       "3          0  \n",
       "4          1  "
      ]
     },
     "execution_count": 27,
     "metadata": {},
     "output_type": "execute_result"
    }
   ],
   "source": [
    "#this applies the dict just created to the dataframe\n",
    "machine_imdb['sentiment'] = machine_imdb['sentiment'].apply(lambda x: sentiments_dict[x])\n",
    "machine_imdb.head(5)"
   ]
  },
  {
   "cell_type": "code",
   "execution_count": 60,
   "id": "cb082d48",
   "metadata": {},
   "outputs": [
    {
     "data": {
      "text/html": [
       "<div>\n",
       "<style scoped>\n",
       "    .dataframe tbody tr th:only-of-type {\n",
       "        vertical-align: middle;\n",
       "    }\n",
       "\n",
       "    .dataframe tbody tr th {\n",
       "        vertical-align: top;\n",
       "    }\n",
       "\n",
       "    .dataframe thead th {\n",
       "        text-align: right;\n",
       "    }\n",
       "</style>\n",
       "<table border=\"1\" class=\"dataframe\">\n",
       "  <thead>\n",
       "    <tr style=\"text-align: right;\">\n",
       "      <th></th>\n",
       "      <th>Compound</th>\n",
       "      <th>Positive</th>\n",
       "      <th>Negative</th>\n",
       "      <th>Neutral</th>\n",
       "      <th>sentiment</th>\n",
       "    </tr>\n",
       "  </thead>\n",
       "  <tbody>\n",
       "    <tr>\n",
       "      <th>Compound</th>\n",
       "      <td>1.000000</td>\n",
       "      <td>0.633491</td>\n",
       "      <td>-0.736686</td>\n",
       "      <td>0.016193</td>\n",
       "      <td>0.454348</td>\n",
       "    </tr>\n",
       "    <tr>\n",
       "      <th>Positive</th>\n",
       "      <td>0.633491</td>\n",
       "      <td>1.000000</td>\n",
       "      <td>-0.396991</td>\n",
       "      <td>-0.625509</td>\n",
       "      <td>0.407825</td>\n",
       "    </tr>\n",
       "    <tr>\n",
       "      <th>Negative</th>\n",
       "      <td>-0.736686</td>\n",
       "      <td>-0.396991</td>\n",
       "      <td>1.000000</td>\n",
       "      <td>-0.467750</td>\n",
       "      <td>-0.431617</td>\n",
       "    </tr>\n",
       "    <tr>\n",
       "      <th>Neutral</th>\n",
       "      <td>0.016193</td>\n",
       "      <td>-0.625509</td>\n",
       "      <td>-0.467750</td>\n",
       "      <td>1.000000</td>\n",
       "      <td>-0.025835</td>\n",
       "    </tr>\n",
       "    <tr>\n",
       "      <th>sentiment</th>\n",
       "      <td>0.454348</td>\n",
       "      <td>0.407825</td>\n",
       "      <td>-0.431617</td>\n",
       "      <td>-0.025835</td>\n",
       "      <td>1.000000</td>\n",
       "    </tr>\n",
       "  </tbody>\n",
       "</table>\n",
       "</div>"
      ],
      "text/plain": [
       "           Compound  Positive  Negative   Neutral  sentiment\n",
       "Compound   1.000000  0.633491 -0.736686  0.016193   0.454348\n",
       "Positive   0.633491  1.000000 -0.396991 -0.625509   0.407825\n",
       "Negative  -0.736686 -0.396991  1.000000 -0.467750  -0.431617\n",
       "Neutral    0.016193 -0.625509 -0.467750  1.000000  -0.025835\n",
       "sentiment  0.454348  0.407825 -0.431617 -0.025835   1.000000"
      ]
     },
     "execution_count": 60,
     "metadata": {},
     "output_type": "execute_result"
    }
   ],
   "source": [
    "machine_imdb.corr() \n",
    "#VADER scores aren't very correlated to sentiment "
   ]
  },
  {
   "cell_type": "code",
   "execution_count": 28,
   "id": "f0940584",
   "metadata": {},
   "outputs": [],
   "source": [
    "y = machine_imdb['sentiment'].values #y equals this specific column (target)/ what you want to predict\n",
    "X = machine_imdb['tokens'].values #x is all columnes without Outcome (features)/ what you will use to predict\n",
    "#seperates the columns"
   ]
  },
  {
   "cell_type": "code",
   "execution_count": 29,
   "id": "6a4eefd5",
   "metadata": {},
   "outputs": [],
   "source": [
    "#makes all tokens same size so can train model\n",
    "tokenizer = Tokenizer(lower=True)\n",
    "tokenizer.fit_on_texts(machine_imdb['tokens'])"
   ]
  },
  {
   "cell_type": "code",
   "execution_count": 30,
   "id": "4934ecbe",
   "metadata": {},
   "outputs": [],
   "source": [
    "#We replace the words in our sentences with whichever index they are included in the 'tokenizer'\n",
    "X_seq = tokenizer.texts_to_sequences(X)\n",
    "#transform the text data to numerical sequences and save the sequences in a variable called X_seq"
   ]
  },
  {
   "cell_type": "code",
   "execution_count": 31,
   "id": "e73d2dde",
   "metadata": {},
   "outputs": [],
   "source": [
    "# Set the pad size\n",
    "max_words = 150 #max a (whole comment) segment will be less than 150 to normalize\n",
    "\n",
    "# Pad the sequences using the pad_sequences() method\n",
    "X_pad = pad_sequences(X_seq, maxlen=max_words, padding=\"post\", truncating='post') #truncating='post'"
   ]
  },
  {
   "cell_type": "markdown",
   "id": "cab2c48f",
   "metadata": {},
   "source": [
    "pad_sequences: This function transforms a list (of length num_samples) of sequences (lists of integers) into a 2D Numpy array of shape (num_samples, num_timesteps)"
   ]
  },
  {
   "cell_type": "code",
   "execution_count": 32,
   "id": "63826c3a",
   "metadata": {},
   "outputs": [],
   "source": [
    "X_train, X_test, y_train, y_test = train_test_split(X_pad, y, random_state=78)"
   ]
  },
  {
   "cell_type": "markdown",
   "id": "59f0d76f",
   "metadata": {},
   "source": [
    "Verify Shape"
   ]
  },
  {
   "cell_type": "code",
   "execution_count": 33,
   "id": "4f4ac7b4",
   "metadata": {},
   "outputs": [
    {
     "data": {
      "text/plain": [
       "(12500, 150)"
      ]
     },
     "execution_count": 33,
     "metadata": {},
     "output_type": "execute_result"
    }
   ],
   "source": [
    "X_test.shape"
   ]
  },
  {
   "cell_type": "code",
   "execution_count": 34,
   "id": "a2636649",
   "metadata": {},
   "outputs": [
    {
     "data": {
      "text/plain": [
       "(37500, 150)"
      ]
     },
     "execution_count": 34,
     "metadata": {},
     "output_type": "execute_result"
    }
   ],
   "source": [
    "X_train.shape"
   ]
  },
  {
   "cell_type": "markdown",
   "id": "39f00010",
   "metadata": {},
   "source": [
    "You should set the input_dim parameter to the size of your vocabulary, so we set the vocabulary_size variable to the length of the number of words in the tokenizer plus 1"
   ]
  },
  {
   "cell_type": "code",
   "execution_count": 37,
   "id": "29813387",
   "metadata": {},
   "outputs": [],
   "source": [
    "vocabulary_size = len(tokenizer.word_counts.keys()) + 1 #used to find the length of the vector made\n",
    "embedding_size = 64"
   ]
  },
  {
   "cell_type": "code",
   "execution_count": 38,
   "id": "90dce7e8",
   "metadata": {},
   "outputs": [],
   "source": [
    "# Define the LSTM RNN model\n",
    "model = Sequential()\n",
    "\n",
    "# Layer 1\n",
    "model.add(Embedding(vocabulary_size, embedding_size, input_length=max_words))\n",
    "\n",
    "# Layer 2\n",
    "model.add(LSTM(units=128))\n",
    "\n",
    "# Output layer\n",
    "model.add(Dense(units=1, activation=\"sigmoid\"))"
   ]
  },
  {
   "cell_type": "code",
   "execution_count": 39,
   "id": "cf525107",
   "metadata": {},
   "outputs": [],
   "source": [
    "#compiles model\n",
    "model.compile(optimizer = 'adam', \n",
    "              loss = 'binary_crossentropy',\n",
    "              metrics = ['accuracy'])"
   ]
  },
  {
   "cell_type": "code",
   "execution_count": 40,
   "id": "53537042",
   "metadata": {},
   "outputs": [
    {
     "name": "stdout",
     "output_type": "stream",
     "text": [
      "Model: \"sequential_1\"\n",
      "_________________________________________________________________\n",
      " Layer (type)                Output Shape              Param #   \n",
      "=================================================================\n",
      " embedding_1 (Embedding)     (None, 150, 64)           10109568  \n",
      "                                                                 \n",
      " lstm_1 (LSTM)               (None, 128)               98816     \n",
      "                                                                 \n",
      " dense_1 (Dense)             (None, 1)                 129       \n",
      "                                                                 \n",
      "=================================================================\n",
      "Total params: 10,208,513\n",
      "Trainable params: 10,208,513\n",
      "Non-trainable params: 0\n",
      "_________________________________________________________________\n"
     ]
    }
   ],
   "source": [
    "# Show the model summary\n",
    "model.summary()"
   ]
  },
  {
   "cell_type": "code",
   "execution_count": 41,
   "id": "dc8838c5",
   "metadata": {},
   "outputs": [
    {
     "name": "stdout",
     "output_type": "stream",
     "text": [
      "Epoch 1/10\n",
      "38/38 [==============================] - 43s 1s/step - loss: 0.6928 - accuracy: 0.5069\n",
      "Epoch 2/10\n",
      "38/38 [==============================] - 43s 1s/step - loss: 0.6899 - accuracy: 0.5569\n",
      "Epoch 3/10\n",
      "38/38 [==============================] - 48s 1s/step - loss: 0.6775 - accuracy: 0.5909\n",
      "Epoch 4/10\n",
      "38/38 [==============================] - 44s 1s/step - loss: 0.4358 - accuracy: 0.8383\n",
      "Epoch 5/10\n",
      "38/38 [==============================] - 42s 1s/step - loss: 0.2581 - accuracy: 0.9095\n",
      "Epoch 6/10\n",
      "38/38 [==============================] - 41s 1s/step - loss: 0.1588 - accuracy: 0.9533\n",
      "Epoch 7/10\n",
      "38/38 [==============================] - 43s 1s/step - loss: 0.0931 - accuracy: 0.9759\n",
      "Epoch 8/10\n",
      "38/38 [==============================] - 43s 1s/step - loss: 0.0575 - accuracy: 0.9871\n",
      "Epoch 9/10\n",
      "38/38 [==============================] - 39s 1s/step - loss: 0.0380 - accuracy: 0.9930\n",
      "Epoch 10/10\n",
      "38/38 [==============================] - 42s 1s/step - loss: 0.0282 - accuracy: 0.9952\n"
     ]
    },
    {
     "data": {
      "text/plain": [
       "<keras.callbacks.History at 0x7f9387ff42d0>"
      ]
     },
     "execution_count": 41,
     "metadata": {},
     "output_type": "execute_result"
    }
   ],
   "source": [
    "#fits model\n",
    "model.fit(X_train, y_train, batch_size = 1000, epochs = 10, verbose = 1) "
   ]
  },
  {
   "cell_type": "code",
   "execution_count": 42,
   "id": "56f4d3ce",
   "metadata": {},
   "outputs": [
    {
     "name": "stdout",
     "output_type": "stream",
     "text": [
      "391/391 [==============================] - 10s 25ms/step - loss: 0.5194 - accuracy: 0.8771\n"
     ]
    },
    {
     "data": {
      "text/plain": [
       "[0.5193531513214111, 0.8771200180053711]"
      ]
     },
     "execution_count": 42,
     "metadata": {},
     "output_type": "execute_result"
    }
   ],
   "source": [
    "# Evaluate the model\n",
    "model.evaluate(X_test, y_test)"
   ]
  },
  {
   "cell_type": "code",
   "execution_count": 44,
   "id": "adbe9eb6",
   "metadata": {},
   "outputs": [
    {
     "data": {
      "text/plain": [
       "array([[0.99706423],\n",
       "       [0.01743078],\n",
       "       [0.02110386],\n",
       "       ...,\n",
       "       [0.00345308],\n",
       "       [0.00359294],\n",
       "       [0.00359309]], dtype=float32)"
      ]
     },
     "execution_count": 44,
     "metadata": {},
     "output_type": "execute_result"
    }
   ],
   "source": [
    "predictions_lstm = model.predict(X_test)\n",
    "predictions_lstm\n",
    "#could put a new dataset in here and it would be 88% accurate.\n",
    "#new dataset would just need to be tokenized and put into "
   ]
  },
  {
   "cell_type": "code",
   "execution_count": 45,
   "id": "6c695a10",
   "metadata": {},
   "outputs": [],
   "source": [
    "y_pred = model.predict(X_test) > 0.5 #anything greater than .7 is considered 1 (positive) - gave best results"
   ]
  },
  {
   "cell_type": "code",
   "execution_count": 46,
   "id": "505ef395",
   "metadata": {},
   "outputs": [],
   "source": [
    "y_test = np.reshape(y_test, (-1,1)) #this makes it so y_test is one dimension"
   ]
  },
  {
   "cell_type": "code",
   "execution_count": 47,
   "id": "83dfcaa3",
   "metadata": {},
   "outputs": [],
   "source": [
    "prediction_lstm_df = pd.DataFrame({\"Actual\": y_test.ravel() , \"Prediction\": y_pred.ravel()}) #use .ravel to put in df"
   ]
  },
  {
   "cell_type": "code",
   "execution_count": 49,
   "id": "96378f8f",
   "metadata": {},
   "outputs": [
    {
     "data": {
      "text/html": [
       "<div>\n",
       "<style scoped>\n",
       "    .dataframe tbody tr th:only-of-type {\n",
       "        vertical-align: middle;\n",
       "    }\n",
       "\n",
       "    .dataframe tbody tr th {\n",
       "        vertical-align: top;\n",
       "    }\n",
       "\n",
       "    .dataframe thead th {\n",
       "        text-align: right;\n",
       "    }\n",
       "</style>\n",
       "<table border=\"1\" class=\"dataframe\">\n",
       "  <thead>\n",
       "    <tr style=\"text-align: right;\">\n",
       "      <th></th>\n",
       "      <th>Actual</th>\n",
       "      <th>Prediction</th>\n",
       "    </tr>\n",
       "  </thead>\n",
       "  <tbody>\n",
       "    <tr>\n",
       "      <th>0</th>\n",
       "      <td>1</td>\n",
       "      <td>True</td>\n",
       "    </tr>\n",
       "    <tr>\n",
       "      <th>1</th>\n",
       "      <td>0</td>\n",
       "      <td>False</td>\n",
       "    </tr>\n",
       "    <tr>\n",
       "      <th>2</th>\n",
       "      <td>0</td>\n",
       "      <td>False</td>\n",
       "    </tr>\n",
       "    <tr>\n",
       "      <th>3</th>\n",
       "      <td>0</td>\n",
       "      <td>False</td>\n",
       "    </tr>\n",
       "    <tr>\n",
       "      <th>4</th>\n",
       "      <td>0</td>\n",
       "      <td>False</td>\n",
       "    </tr>\n",
       "    <tr>\n",
       "      <th>5</th>\n",
       "      <td>1</td>\n",
       "      <td>True</td>\n",
       "    </tr>\n",
       "    <tr>\n",
       "      <th>6</th>\n",
       "      <td>0</td>\n",
       "      <td>True</td>\n",
       "    </tr>\n",
       "    <tr>\n",
       "      <th>7</th>\n",
       "      <td>0</td>\n",
       "      <td>False</td>\n",
       "    </tr>\n",
       "    <tr>\n",
       "      <th>8</th>\n",
       "      <td>0</td>\n",
       "      <td>True</td>\n",
       "    </tr>\n",
       "    <tr>\n",
       "      <th>9</th>\n",
       "      <td>1</td>\n",
       "      <td>True</td>\n",
       "    </tr>\n",
       "  </tbody>\n",
       "</table>\n",
       "</div>"
      ],
      "text/plain": [
       "   Actual  Prediction\n",
       "0       1        True\n",
       "1       0       False\n",
       "2       0       False\n",
       "3       0       False\n",
       "4       0       False\n",
       "5       1        True\n",
       "6       0        True\n",
       "7       0       False\n",
       "8       0        True\n",
       "9       1        True"
      ]
     },
     "execution_count": 49,
     "metadata": {},
     "output_type": "execute_result"
    }
   ],
   "source": [
    "prediction_lstm_df.head(10)"
   ]
  },
  {
   "cell_type": "code",
   "execution_count": 50,
   "id": "988851e3",
   "metadata": {},
   "outputs": [],
   "source": [
    "#makes the True and False into 1 and 0 to compare\n",
    "prediction_dict = {\n",
    "    True: 1, #postive\n",
    "    False: 0 #negative\n",
    "}\n",
    "prediction_lstm_df['Prediction'] = prediction_lstm_df['Prediction'].apply(lambda x: prediction_dict[x])"
   ]
  },
  {
   "cell_type": "code",
   "execution_count": 52,
   "id": "4ca74ab9",
   "metadata": {},
   "outputs": [
    {
     "data": {
      "text/html": [
       "<div>\n",
       "<style scoped>\n",
       "    .dataframe tbody tr th:only-of-type {\n",
       "        vertical-align: middle;\n",
       "    }\n",
       "\n",
       "    .dataframe tbody tr th {\n",
       "        vertical-align: top;\n",
       "    }\n",
       "\n",
       "    .dataframe thead th {\n",
       "        text-align: right;\n",
       "    }\n",
       "</style>\n",
       "<table border=\"1\" class=\"dataframe\">\n",
       "  <thead>\n",
       "    <tr style=\"text-align: right;\">\n",
       "      <th></th>\n",
       "      <th>Actual</th>\n",
       "      <th>Prediction</th>\n",
       "    </tr>\n",
       "  </thead>\n",
       "  <tbody>\n",
       "    <tr>\n",
       "      <th>0</th>\n",
       "      <td>1</td>\n",
       "      <td>1</td>\n",
       "    </tr>\n",
       "    <tr>\n",
       "      <th>1</th>\n",
       "      <td>0</td>\n",
       "      <td>0</td>\n",
       "    </tr>\n",
       "    <tr>\n",
       "      <th>2</th>\n",
       "      <td>0</td>\n",
       "      <td>0</td>\n",
       "    </tr>\n",
       "    <tr>\n",
       "      <th>3</th>\n",
       "      <td>0</td>\n",
       "      <td>0</td>\n",
       "    </tr>\n",
       "    <tr>\n",
       "      <th>4</th>\n",
       "      <td>0</td>\n",
       "      <td>0</td>\n",
       "    </tr>\n",
       "    <tr>\n",
       "      <th>5</th>\n",
       "      <td>1</td>\n",
       "      <td>1</td>\n",
       "    </tr>\n",
       "    <tr>\n",
       "      <th>6</th>\n",
       "      <td>0</td>\n",
       "      <td>1</td>\n",
       "    </tr>\n",
       "    <tr>\n",
       "      <th>7</th>\n",
       "      <td>0</td>\n",
       "      <td>0</td>\n",
       "    </tr>\n",
       "    <tr>\n",
       "      <th>8</th>\n",
       "      <td>0</td>\n",
       "      <td>1</td>\n",
       "    </tr>\n",
       "    <tr>\n",
       "      <th>9</th>\n",
       "      <td>1</td>\n",
       "      <td>1</td>\n",
       "    </tr>\n",
       "    <tr>\n",
       "      <th>10</th>\n",
       "      <td>1</td>\n",
       "      <td>1</td>\n",
       "    </tr>\n",
       "    <tr>\n",
       "      <th>11</th>\n",
       "      <td>1</td>\n",
       "      <td>1</td>\n",
       "    </tr>\n",
       "    <tr>\n",
       "      <th>12</th>\n",
       "      <td>1</td>\n",
       "      <td>1</td>\n",
       "    </tr>\n",
       "    <tr>\n",
       "      <th>13</th>\n",
       "      <td>1</td>\n",
       "      <td>1</td>\n",
       "    </tr>\n",
       "    <tr>\n",
       "      <th>14</th>\n",
       "      <td>0</td>\n",
       "      <td>0</td>\n",
       "    </tr>\n",
       "    <tr>\n",
       "      <th>15</th>\n",
       "      <td>1</td>\n",
       "      <td>1</td>\n",
       "    </tr>\n",
       "    <tr>\n",
       "      <th>16</th>\n",
       "      <td>1</td>\n",
       "      <td>1</td>\n",
       "    </tr>\n",
       "    <tr>\n",
       "      <th>17</th>\n",
       "      <td>1</td>\n",
       "      <td>1</td>\n",
       "    </tr>\n",
       "    <tr>\n",
       "      <th>18</th>\n",
       "      <td>0</td>\n",
       "      <td>0</td>\n",
       "    </tr>\n",
       "    <tr>\n",
       "      <th>19</th>\n",
       "      <td>0</td>\n",
       "      <td>0</td>\n",
       "    </tr>\n",
       "  </tbody>\n",
       "</table>\n",
       "</div>"
      ],
      "text/plain": [
       "    Actual  Prediction\n",
       "0        1           1\n",
       "1        0           0\n",
       "2        0           0\n",
       "3        0           0\n",
       "4        0           0\n",
       "5        1           1\n",
       "6        0           1\n",
       "7        0           0\n",
       "8        0           1\n",
       "9        1           1\n",
       "10       1           1\n",
       "11       1           1\n",
       "12       1           1\n",
       "13       1           1\n",
       "14       0           0\n",
       "15       1           1\n",
       "16       1           1\n",
       "17       1           1\n",
       "18       0           0\n",
       "19       0           0"
      ]
     },
     "execution_count": 52,
     "metadata": {},
     "output_type": "execute_result"
    }
   ],
   "source": [
    "prediction_lstm_df.head(20)"
   ]
  },
  {
   "cell_type": "code",
   "execution_count": 53,
   "id": "1853e73b",
   "metadata": {},
   "outputs": [
    {
     "data": {
      "text/plain": [
       "array([[5541,  799],\n",
       "       [ 737, 5423]])"
      ]
     },
     "execution_count": 53,
     "metadata": {},
     "output_type": "execute_result"
    }
   ],
   "source": [
    "#confusion matrix\n",
    "confusion_matrix(y_test, prediction_lstm_df['Prediction']) #true negative top left\n",
    "#true positive bottom right"
   ]
  },
  {
   "cell_type": "code",
   "execution_count": 54,
   "id": "7d91081f",
   "metadata": {},
   "outputs": [
    {
     "name": "stdout",
     "output_type": "stream",
     "text": [
      "                   pre       rec       spe        f1       geo       iba       sup\n",
      "\n",
      "          0       0.88      0.87      0.88      0.88      0.88      0.77      6340\n",
      "          1       0.87      0.88      0.87      0.88      0.88      0.77      6160\n",
      "\n",
      "avg / total       0.88      0.88      0.88      0.88      0.88      0.77     12500\n",
      "\n"
     ]
    }
   ],
   "source": [
    "#classification report\n",
    "print(classification_report_imbalanced(y_test, prediction_lstm_df['Prediction']))"
   ]
  },
  {
   "cell_type": "markdown",
   "id": "306931be",
   "metadata": {},
   "source": [
    "# AdaBoost"
   ]
  },
  {
   "cell_type": "code",
   "execution_count": 61,
   "id": "7d5ec4b4",
   "metadata": {},
   "outputs": [],
   "source": [
    "from sklearn.ensemble import AdaBoostClassifier \n",
    "from sklearn.metrics import confusion_matrix\n",
    "from sklearn.metrics import accuracy_score\n",
    "from sklearn.metrics import classification_report\n",
    "from sklearn.ensemble import GradientBoostingClassifier"
   ]
  },
  {
   "cell_type": "code",
   "execution_count": 41,
   "id": "ffe84432",
   "metadata": {},
   "outputs": [
    {
     "data": {
      "text/plain": [
       "array([0, 1, 1, ..., 0, 1, 1], dtype=int64)"
      ]
     },
     "execution_count": 41,
     "metadata": {},
     "output_type": "execute_result"
    }
   ],
   "source": [
    "# Create adaboost classifer object\n",
    "AdaModel = AdaBoostClassifier(n_estimators=50,\n",
    "                         learning_rate=1)\n",
    "# Train Adaboost Classifer\n",
    "ad_model = AdaModel.fit(X_train, y_train)\n",
    "\n",
    "#Predict the response for test dataset\n",
    "y_pred = ad_model.predict(X_test)\n",
    "\n",
    "y_pred"
   ]
  },
  {
   "cell_type": "code",
   "execution_count": 42,
   "id": "b4becb09",
   "metadata": {},
   "outputs": [
    {
     "data": {
      "text/plain": [
       "array([0, 1, 1, ..., 0, 1, 1], dtype=int64)"
      ]
     },
     "execution_count": 42,
     "metadata": {},
     "output_type": "execute_result"
    }
   ],
   "source": [
    "ad_predictions = ad_model.predict(X_test)\n",
    "ad_predictions"
   ]
  },
  {
   "cell_type": "code",
   "execution_count": 55,
   "id": "abedfa3e",
   "metadata": {},
   "outputs": [
    {
     "data": {
      "text/html": [
       "<div>\n",
       "<style scoped>\n",
       "    .dataframe tbody tr th:only-of-type {\n",
       "        vertical-align: middle;\n",
       "    }\n",
       "\n",
       "    .dataframe tbody tr th {\n",
       "        vertical-align: top;\n",
       "    }\n",
       "\n",
       "    .dataframe thead th {\n",
       "        text-align: right;\n",
       "    }\n",
       "</style>\n",
       "<table border=\"1\" class=\"dataframe\">\n",
       "  <thead>\n",
       "    <tr style=\"text-align: right;\">\n",
       "      <th></th>\n",
       "      <th>Actual</th>\n",
       "      <th>Prediction</th>\n",
       "    </tr>\n",
       "  </thead>\n",
       "  <tbody>\n",
       "    <tr>\n",
       "      <th>0</th>\n",
       "      <td>1</td>\n",
       "      <td>0</td>\n",
       "    </tr>\n",
       "    <tr>\n",
       "      <th>1</th>\n",
       "      <td>0</td>\n",
       "      <td>1</td>\n",
       "    </tr>\n",
       "    <tr>\n",
       "      <th>2</th>\n",
       "      <td>0</td>\n",
       "      <td>1</td>\n",
       "    </tr>\n",
       "    <tr>\n",
       "      <th>3</th>\n",
       "      <td>0</td>\n",
       "      <td>1</td>\n",
       "    </tr>\n",
       "    <tr>\n",
       "      <th>4</th>\n",
       "      <td>0</td>\n",
       "      <td>1</td>\n",
       "    </tr>\n",
       "    <tr>\n",
       "      <th>5</th>\n",
       "      <td>1</td>\n",
       "      <td>0</td>\n",
       "    </tr>\n",
       "    <tr>\n",
       "      <th>6</th>\n",
       "      <td>0</td>\n",
       "      <td>1</td>\n",
       "    </tr>\n",
       "    <tr>\n",
       "      <th>7</th>\n",
       "      <td>0</td>\n",
       "      <td>1</td>\n",
       "    </tr>\n",
       "    <tr>\n",
       "      <th>8</th>\n",
       "      <td>0</td>\n",
       "      <td>0</td>\n",
       "    </tr>\n",
       "    <tr>\n",
       "      <th>9</th>\n",
       "      <td>1</td>\n",
       "      <td>0</td>\n",
       "    </tr>\n",
       "    <tr>\n",
       "      <th>10</th>\n",
       "      <td>1</td>\n",
       "      <td>0</td>\n",
       "    </tr>\n",
       "    <tr>\n",
       "      <th>11</th>\n",
       "      <td>1</td>\n",
       "      <td>1</td>\n",
       "    </tr>\n",
       "    <tr>\n",
       "      <th>12</th>\n",
       "      <td>1</td>\n",
       "      <td>0</td>\n",
       "    </tr>\n",
       "    <tr>\n",
       "      <th>13</th>\n",
       "      <td>1</td>\n",
       "      <td>1</td>\n",
       "    </tr>\n",
       "    <tr>\n",
       "      <th>14</th>\n",
       "      <td>0</td>\n",
       "      <td>0</td>\n",
       "    </tr>\n",
       "    <tr>\n",
       "      <th>15</th>\n",
       "      <td>1</td>\n",
       "      <td>1</td>\n",
       "    </tr>\n",
       "    <tr>\n",
       "      <th>16</th>\n",
       "      <td>1</td>\n",
       "      <td>0</td>\n",
       "    </tr>\n",
       "    <tr>\n",
       "      <th>17</th>\n",
       "      <td>1</td>\n",
       "      <td>1</td>\n",
       "    </tr>\n",
       "    <tr>\n",
       "      <th>18</th>\n",
       "      <td>0</td>\n",
       "      <td>0</td>\n",
       "    </tr>\n",
       "    <tr>\n",
       "      <th>19</th>\n",
       "      <td>0</td>\n",
       "      <td>0</td>\n",
       "    </tr>\n",
       "  </tbody>\n",
       "</table>\n",
       "</div>"
      ],
      "text/plain": [
       "    Actual  Prediction\n",
       "0        1           0\n",
       "1        0           1\n",
       "2        0           1\n",
       "3        0           1\n",
       "4        0           1\n",
       "5        1           0\n",
       "6        0           1\n",
       "7        0           1\n",
       "8        0           0\n",
       "9        1           0\n",
       "10       1           0\n",
       "11       1           1\n",
       "12       1           0\n",
       "13       1           1\n",
       "14       0           0\n",
       "15       1           1\n",
       "16       1           0\n",
       "17       1           1\n",
       "18       0           0\n",
       "19       0           0"
      ]
     },
     "execution_count": 55,
     "metadata": {},
     "output_type": "execute_result"
    }
   ],
   "source": [
    "ada_prediction_df = pd.DataFrame({\"Actual\": y_test.ravel() , \"Prediction\": y_pred.ravel()}) #use .ravel to put in df\n",
    "ada_prediction_df.head(20)\n"
   ]
  },
  {
   "cell_type": "code",
   "execution_count": 52,
   "id": "2de47cfc",
   "metadata": {},
   "outputs": [
    {
     "name": "stdout",
     "output_type": "stream",
     "text": [
      "Accuracy Score : 0.53336\n"
     ]
    }
   ],
   "source": [
    "acc_score = accuracy_score(y_test, ad_predictions)\n",
    "print(f\"Accuracy Score : {acc_score}\")"
   ]
  },
  {
   "cell_type": "code",
   "execution_count": 57,
   "id": "bf297797",
   "metadata": {},
   "outputs": [
    {
     "data": {
      "text/plain": [
       "array([[3371, 2969],\n",
       "       [2864, 3296]], dtype=int64)"
      ]
     },
     "execution_count": 57,
     "metadata": {},
     "output_type": "execute_result"
    }
   ],
   "source": [
    "# Generate the confusion matrix\n",
    "#ada_matrix = confusion_matrix(y_test, predictions)\n",
    "#ada_matrix_df = pd.DataFrame(\n",
    "   # ada_matrix, index=[\"Actual 0\", \"Actual 1\"],\n",
    "  #  columns=[\"Predicted 0\", \"Predicted 1\"]\n",
    "#)\n",
    "\n",
    "# Displaying results\n",
    "#display(ada_matrix_df)\n",
    "\n",
    "confusion_matrix(y_test, prediction_df['Prediction'])"
   ]
  },
  {
   "cell_type": "code",
   "execution_count": 59,
   "id": "d2826a6e",
   "metadata": {},
   "outputs": [
    {
     "name": "stdout",
     "output_type": "stream",
     "text": [
      "                   pre       rec       spe        f1       geo       iba       sup\n",
      "\n",
      "          0       0.54      0.53      0.54      0.54      0.53      0.28      6340\n",
      "          1       0.53      0.54      0.53      0.53      0.53      0.28      6160\n",
      "\n",
      "avg / total       0.53      0.53      0.53      0.53      0.53      0.28     12500\n",
      "\n"
     ]
    }
   ],
   "source": [
    "# Generate classification report\n",
    "print(classification_report_imbalanced(y_test, prediction_df['Prediction']))"
   ]
  },
  {
   "cell_type": "code",
   "execution_count": 71,
   "id": "76d75624",
   "metadata": {},
   "outputs": [],
   "source": [
    "\"\"\"Using SVM as a base estimator\"\"\"\n",
    "from sklearn.svm import SVC\n",
    "from sklearn.ensemble import AdaBoostClassifier \n",
    "svc = SVC(probability = True, kernel='linear')\n",
    "adb = AdaBoostClassifier(n_estimators=50,base_estimator = svc, learning_rate= 0.01)"
   ]
  },
  {
   "cell_type": "code",
   "execution_count": null,
   "id": "733ab0b7",
   "metadata": {},
   "outputs": [],
   "source": [
    "svm_model = adb.fit(X_train, y_train)\n",
    "y_pred = model.predict(X_test)\n",
    "y_pred"
   ]
  },
  {
   "cell_type": "code",
   "execution_count": null,
   "id": "ef255376",
   "metadata": {},
   "outputs": [],
   "source": [
    "print(confusion_matrix(y_test, y_pred))\n",
    "print(classification_report(y_test, y_pred))\n",
    "print(accuracy_score(y_test, y_pred))"
   ]
  },
  {
   "cell_type": "markdown",
   "id": "5dc01c76",
   "metadata": {},
   "source": [
    "# Gradient Boost (test)"
   ]
  },
  {
   "cell_type": "code",
   "execution_count": 64,
   "id": "cb730223",
   "metadata": {},
   "outputs": [
    {
     "name": "stdout",
     "output_type": "stream",
     "text": [
      "Learning rate:  0.05\n",
      "Accuracy score (train): 0.619\n",
      "Accuracy score (test): 0.545\n",
      "\n",
      "Learning rate:  0.1\n",
      "Accuracy score (train): 0.654\n",
      "Accuracy score (test): 0.555\n",
      "\n",
      "Learning rate:  0.25\n",
      "Accuracy score (train): 0.703\n",
      "Accuracy score (test): 0.556\n",
      "\n",
      "Learning rate:  0.5\n",
      "Accuracy score (train): 0.742\n",
      "Accuracy score (test): 0.554\n",
      "\n",
      "Learning rate:  0.75\n",
      "Accuracy score (train): 0.759\n",
      "Accuracy score (test): 0.554\n",
      "\n",
      "Learning rate:  1\n",
      "Accuracy score (train): 0.773\n",
      "Accuracy score (test): 0.550\n",
      "\n"
     ]
    }
   ],
   "source": [
    "learning_rates = [0.05, 0.1, 0.25, 0.5, 0.75, 1]\n",
    "for learning_rate in learning_rates:\n",
    "    classifier = GradientBoostingClassifier(\n",
    "        n_estimators=500,\n",
    "        learning_rate=learning_rate,\n",
    "        max_features=2,\n",
    "        max_depth=3,\n",
    "        random_state=0\n",
    "    )\n",
    "\n",
    "    # Fit the model\n",
    "    classifier.fit(X_train, y_train.ravel())\n",
    "    print(\"Learning rate: \", learning_rate)\n",
    "\n",
    "    # Score the model\n",
    "    print(\"Accuracy score (train): {0:.3f}\".format(\n",
    "        classifier.score(\n",
    "            X_train,\n",
    "            y_train.ravel())))\n",
    "    print(\"Accuracy score (test): {0:.3f}\".format(\n",
    "        classifier.score(\n",
    "            X_test,\n",
    "            y_test.ravel())))\n",
    "    print()"
   ]
  },
  {
   "cell_type": "code",
   "execution_count": 66,
   "id": "3e062d8c",
   "metadata": {},
   "outputs": [
    {
     "data": {
      "text/html": [
       "<div>\n",
       "<style scoped>\n",
       "    .dataframe tbody tr th:only-of-type {\n",
       "        vertical-align: middle;\n",
       "    }\n",
       "\n",
       "    .dataframe tbody tr th {\n",
       "        vertical-align: top;\n",
       "    }\n",
       "\n",
       "    .dataframe thead th {\n",
       "        text-align: right;\n",
       "    }\n",
       "</style>\n",
       "<table border=\"1\" class=\"dataframe\">\n",
       "  <thead>\n",
       "    <tr style=\"text-align: right;\">\n",
       "      <th></th>\n",
       "      <th>Prediction</th>\n",
       "      <th>Actual</th>\n",
       "    </tr>\n",
       "  </thead>\n",
       "  <tbody>\n",
       "    <tr>\n",
       "      <th>0</th>\n",
       "      <td>0</td>\n",
       "      <td>1</td>\n",
       "    </tr>\n",
       "    <tr>\n",
       "      <th>1</th>\n",
       "      <td>0</td>\n",
       "      <td>0</td>\n",
       "    </tr>\n",
       "    <tr>\n",
       "      <th>2</th>\n",
       "      <td>1</td>\n",
       "      <td>0</td>\n",
       "    </tr>\n",
       "    <tr>\n",
       "      <th>3</th>\n",
       "      <td>1</td>\n",
       "      <td>0</td>\n",
       "    </tr>\n",
       "    <tr>\n",
       "      <th>4</th>\n",
       "      <td>1</td>\n",
       "      <td>0</td>\n",
       "    </tr>\n",
       "    <tr>\n",
       "      <th>5</th>\n",
       "      <td>0</td>\n",
       "      <td>1</td>\n",
       "    </tr>\n",
       "    <tr>\n",
       "      <th>6</th>\n",
       "      <td>1</td>\n",
       "      <td>0</td>\n",
       "    </tr>\n",
       "    <tr>\n",
       "      <th>7</th>\n",
       "      <td>1</td>\n",
       "      <td>0</td>\n",
       "    </tr>\n",
       "    <tr>\n",
       "      <th>8</th>\n",
       "      <td>1</td>\n",
       "      <td>0</td>\n",
       "    </tr>\n",
       "    <tr>\n",
       "      <th>9</th>\n",
       "      <td>1</td>\n",
       "      <td>1</td>\n",
       "    </tr>\n",
       "    <tr>\n",
       "      <th>10</th>\n",
       "      <td>1</td>\n",
       "      <td>1</td>\n",
       "    </tr>\n",
       "    <tr>\n",
       "      <th>11</th>\n",
       "      <td>0</td>\n",
       "      <td>1</td>\n",
       "    </tr>\n",
       "    <tr>\n",
       "      <th>12</th>\n",
       "      <td>0</td>\n",
       "      <td>1</td>\n",
       "    </tr>\n",
       "    <tr>\n",
       "      <th>13</th>\n",
       "      <td>1</td>\n",
       "      <td>1</td>\n",
       "    </tr>\n",
       "    <tr>\n",
       "      <th>14</th>\n",
       "      <td>0</td>\n",
       "      <td>0</td>\n",
       "    </tr>\n",
       "    <tr>\n",
       "      <th>15</th>\n",
       "      <td>0</td>\n",
       "      <td>1</td>\n",
       "    </tr>\n",
       "    <tr>\n",
       "      <th>16</th>\n",
       "      <td>0</td>\n",
       "      <td>1</td>\n",
       "    </tr>\n",
       "    <tr>\n",
       "      <th>17</th>\n",
       "      <td>1</td>\n",
       "      <td>1</td>\n",
       "    </tr>\n",
       "    <tr>\n",
       "      <th>18</th>\n",
       "      <td>0</td>\n",
       "      <td>0</td>\n",
       "    </tr>\n",
       "    <tr>\n",
       "      <th>19</th>\n",
       "      <td>0</td>\n",
       "      <td>0</td>\n",
       "    </tr>\n",
       "  </tbody>\n",
       "</table>\n",
       "</div>"
      ],
      "text/plain": [
       "    Prediction  Actual\n",
       "0            0       1\n",
       "1            0       0\n",
       "2            1       0\n",
       "3            1       0\n",
       "4            1       0\n",
       "5            0       1\n",
       "6            1       0\n",
       "7            1       0\n",
       "8            1       0\n",
       "9            1       1\n",
       "10           1       1\n",
       "11           0       1\n",
       "12           0       1\n",
       "13           1       1\n",
       "14           0       0\n",
       "15           0       1\n",
       "16           0       1\n",
       "17           1       1\n",
       "18           0       0\n",
       "19           0       0"
      ]
     },
     "execution_count": 66,
     "metadata": {},
     "output_type": "execute_result"
    }
   ],
   "source": [
    "# Choose a learning rate and create classifier\n",
    "classifier = GradientBoostingClassifier(\n",
    "    n_estimators=100,\n",
    "    learning_rate=0.1,\n",
    "    max_features=2,\n",
    "    max_depth=3,\n",
    "    random_state=0\n",
    ")\n",
    "\n",
    "# Fit the model\n",
    "classifier.fit(X_train, y_train.ravel())\n",
    "\n",
    "# Make Prediction\n",
    "predictions = classifier.predict(X_test)\n",
    "pd.DataFrame({\"Prediction\": predictions, \"Actual\": y_test.ravel()}).head(20)"
   ]
  },
  {
   "cell_type": "code",
   "execution_count": 67,
   "id": "cfd5a0ab",
   "metadata": {},
   "outputs": [
    {
     "name": "stdout",
     "output_type": "stream",
     "text": [
      "Accuracy Score : 0.54592\n"
     ]
    }
   ],
   "source": [
    "# Calculating the accuracy score\n",
    "acc_score_gb = accuracy_score(y_test, predictions)\n",
    "print(f\"Accuracy Score : {acc_score}\")"
   ]
  },
  {
   "cell_type": "code",
   "execution_count": 69,
   "id": "991cb2ec",
   "metadata": {},
   "outputs": [
    {
     "data": {
      "text/html": [
       "<div>\n",
       "<style scoped>\n",
       "    .dataframe tbody tr th:only-of-type {\n",
       "        vertical-align: middle;\n",
       "    }\n",
       "\n",
       "    .dataframe tbody tr th {\n",
       "        vertical-align: top;\n",
       "    }\n",
       "\n",
       "    .dataframe thead th {\n",
       "        text-align: right;\n",
       "    }\n",
       "</style>\n",
       "<table border=\"1\" class=\"dataframe\">\n",
       "  <thead>\n",
       "    <tr style=\"text-align: right;\">\n",
       "      <th></th>\n",
       "      <th>Predicted 0</th>\n",
       "      <th>Predicted 1</th>\n",
       "    </tr>\n",
       "  </thead>\n",
       "  <tbody>\n",
       "    <tr>\n",
       "      <th>Actual 0</th>\n",
       "      <td>3613</td>\n",
       "      <td>2727</td>\n",
       "    </tr>\n",
       "    <tr>\n",
       "      <th>Actual 1</th>\n",
       "      <td>2949</td>\n",
       "      <td>3211</td>\n",
       "    </tr>\n",
       "  </tbody>\n",
       "</table>\n",
       "</div>"
      ],
      "text/plain": [
       "          Predicted 0  Predicted 1\n",
       "Actual 0         3613         2727\n",
       "Actual 1         2949         3211"
      ]
     },
     "metadata": {},
     "output_type": "display_data"
    }
   ],
   "source": [
    "# Generate the confusion matrix\n",
    "cm_gb = confusion_matrix(y_test, predictions)\n",
    "cm_gb_df = pd.DataFrame(\n",
    "    cm_gb, index=[\"Actual 0\", \"Actual 1\"],\n",
    "    columns=[\"Predicted 0\", \"Predicted 1\"]\n",
    ")\n",
    "\n",
    "# Displaying results\n",
    "display(cm_gb_df)"
   ]
  },
  {
   "cell_type": "code",
   "execution_count": 70,
   "id": "ba17a3ce",
   "metadata": {},
   "outputs": [
    {
     "name": "stdout",
     "output_type": "stream",
     "text": [
      "Classification Report\n",
      "              precision    recall  f1-score   support\n",
      "\n",
      "           0       0.55      0.57      0.56      6340\n",
      "           1       0.54      0.52      0.53      6160\n",
      "\n",
      "    accuracy                           0.55     12500\n",
      "   macro avg       0.55      0.55      0.55     12500\n",
      "weighted avg       0.55      0.55      0.55     12500\n",
      "\n"
     ]
    }
   ],
   "source": [
    "# Generate classification report\n",
    "print(\"Classification Report\")\n",
    "print(classification_report(y_test, predictions))"
   ]
  },
  {
   "cell_type": "markdown",
   "id": "0a72db13",
   "metadata": {},
   "source": [
    "# Wordclouds"
   ]
  },
  {
   "cell_type": "code",
   "execution_count": null,
   "id": "fc3ec894",
   "metadata": {},
   "outputs": [],
   "source": [
    "from wordcloud import WordCloud\n",
    "import matplotlib.pyplot as plt\n",
    "plt.style.use('seaborn-whitegrid')\n",
    "import matplotlib as mpl\n",
    "mpl.rcParams['figure.figsize'] = [20.0, 10.0]"
   ]
  },
  {
   "cell_type": "code",
   "execution_count": null,
   "id": "ff8695ec",
   "metadata": {},
   "outputs": [],
   "source": [
    "def wordcloud(text, title=\"\"):\n",
    "    df_cloud = WordCloud(width=500, colormap='RdYlBu', stopwords = stop).generate(text) #added stopswords = stop to filter\n",
    "    plt.imshow(df_cloud)\n",
    "    plt.axis(\"off\")\n",
    "    fontdict = {\"fontsize\": 48, \"fontweight\" : \"bold\"}\n",
    "    plt.title(title, fontdict=fontdict)\n",
    "    plt.show()"
   ]
  },
  {
   "cell_type": "code",
   "execution_count": null,
   "id": "5df10b77",
   "metadata": {},
   "outputs": [],
   "source": [
    "#seperates dataset by compound score for visualization of word clouds\n",
    "imdb_pos = imdb.loc[imdb['Compound'] > 0.0]\n",
    "imdb_neg = imdb.loc[imdb['Compound'] < 0.0]\n"
   ]
  },
  {
   "cell_type": "code",
   "execution_count": null,
   "id": "62754423",
   "metadata": {},
   "outputs": [],
   "source": [
    "wordcloud(imdb_pos.text.str.cat(), title = 'Positive Reviews')"
   ]
  },
  {
   "cell_type": "code",
   "execution_count": null,
   "id": "85ee56eb",
   "metadata": {},
   "outputs": [],
   "source": [
    "wordcloud(imdb_neg.text.str.cat(), title = 'Negative Reviews')"
   ]
  },
  {
   "cell_type": "code",
   "execution_count": null,
   "id": "c9cdf893",
   "metadata": {},
   "outputs": [],
   "source": []
  }
 ],
 "metadata": {
  "kernelspec": {
   "display_name": "Python [conda env:pyvizenv] *",
   "language": "python",
   "name": "conda-env-pyvizenv-py"
  },
  "language_info": {
   "codemirror_mode": {
    "name": "ipython",
    "version": 3
   },
   "file_extension": ".py",
   "mimetype": "text/x-python",
   "name": "python",
   "nbconvert_exporter": "python",
   "pygments_lexer": "ipython3",
   "version": "3.7.7"
  }
 },
 "nbformat": 4,
 "nbformat_minor": 5
}
